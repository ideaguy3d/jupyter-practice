{
 "cells": [
  {
   "cell_type": "markdown",
   "metadata": {
    "collapsed": true,
    "pycharm": {
     "name": "#%% md\n"
    }
   },
   "source": [
    "# Fix `city_mpg`, `hwy_mgp`, `cmb_mpg` datatypes\n",
    "Fixing data types p3"
   ]
  },
  {
   "cell_type": "code",
   "execution_count": 27,
   "outputs": [],
   "source": [
    "import pandas as panda\n",
    "\n",
    "df08 = panda.read_csv('../data/data_08_v4.csv')\n",
    "df18 = panda.read_csv('../data/data_18_v4.csv')"
   ],
   "metadata": {
    "collapsed": false,
    "pycharm": {
     "name": "#%%\n"
    }
   }
  },
  {
   "cell_type": "code",
   "execution_count": 29,
   "outputs": [
    {
     "ename": "ValueError",
     "evalue": "could not convert string to float: 'Dec'",
     "output_type": "error",
     "traceback": [
      "\u001B[1;31m---------------------------------------------------------------------------\u001B[0m",
      "\u001B[1;31mValueError\u001B[0m                                Traceback (most recent call last)",
      "\u001B[1;32m<ipython-input-29-3166fd9c1a16>\u001B[0m in \u001B[0;36m<module>\u001B[1;34m\u001B[0m\n\u001B[0;32m      2\u001B[0m \u001B[1;32mfor\u001B[0m \u001B[0mc\u001B[0m \u001B[1;32min\u001B[0m \u001B[0mmpg_columns\u001B[0m\u001B[1;33m:\u001B[0m\u001B[1;33m\u001B[0m\u001B[1;33m\u001B[0m\u001B[0m\n\u001B[0;32m      3\u001B[0m     \u001B[0mdf08\u001B[0m\u001B[1;33m[\u001B[0m\u001B[0mc\u001B[0m\u001B[1;33m]\u001B[0m \u001B[1;33m=\u001B[0m \u001B[0mdf08\u001B[0m\u001B[1;33m[\u001B[0m\u001B[0mc\u001B[0m\u001B[1;33m]\u001B[0m\u001B[1;33m.\u001B[0m\u001B[0mastype\u001B[0m\u001B[1;33m(\u001B[0m\u001B[0mfloat\u001B[0m\u001B[1;33m)\u001B[0m\u001B[1;33m\u001B[0m\u001B[1;33m\u001B[0m\u001B[0m\n\u001B[1;32m----> 4\u001B[1;33m     \u001B[0mdf18\u001B[0m\u001B[1;33m[\u001B[0m\u001B[0mc\u001B[0m\u001B[1;33m]\u001B[0m \u001B[1;33m=\u001B[0m \u001B[0mdf18\u001B[0m\u001B[1;33m[\u001B[0m\u001B[0mc\u001B[0m\u001B[1;33m]\u001B[0m\u001B[1;33m.\u001B[0m\u001B[0mastype\u001B[0m\u001B[1;33m(\u001B[0m\u001B[0mfloat\u001B[0m\u001B[1;33m)\u001B[0m\u001B[1;33m\u001B[0m\u001B[1;33m\u001B[0m\u001B[0m\n\u001B[0m\u001B[0;32m      5\u001B[0m \u001B[1;33m\u001B[0m\u001B[0m\n",
      "\u001B[1;32m~\\AppData\\Roaming\\Python\\Python38\\site-packages\\pandas\\core\\generic.py\u001B[0m in \u001B[0;36mastype\u001B[1;34m(self, dtype, copy, errors)\u001B[0m\n\u001B[0;32m   5546\u001B[0m         \u001B[1;32melse\u001B[0m\u001B[1;33m:\u001B[0m\u001B[1;33m\u001B[0m\u001B[1;33m\u001B[0m\u001B[0m\n\u001B[0;32m   5547\u001B[0m             \u001B[1;31m# else, only a single dtype is given\u001B[0m\u001B[1;33m\u001B[0m\u001B[1;33m\u001B[0m\u001B[1;33m\u001B[0m\u001B[0m\n\u001B[1;32m-> 5548\u001B[1;33m             \u001B[0mnew_data\u001B[0m \u001B[1;33m=\u001B[0m \u001B[0mself\u001B[0m\u001B[1;33m.\u001B[0m\u001B[0m_mgr\u001B[0m\u001B[1;33m.\u001B[0m\u001B[0mastype\u001B[0m\u001B[1;33m(\u001B[0m\u001B[0mdtype\u001B[0m\u001B[1;33m=\u001B[0m\u001B[0mdtype\u001B[0m\u001B[1;33m,\u001B[0m \u001B[0mcopy\u001B[0m\u001B[1;33m=\u001B[0m\u001B[0mcopy\u001B[0m\u001B[1;33m,\u001B[0m \u001B[0merrors\u001B[0m\u001B[1;33m=\u001B[0m\u001B[0merrors\u001B[0m\u001B[1;33m,\u001B[0m\u001B[1;33m)\u001B[0m\u001B[1;33m\u001B[0m\u001B[1;33m\u001B[0m\u001B[0m\n\u001B[0m\u001B[0;32m   5549\u001B[0m             \u001B[1;32mreturn\u001B[0m \u001B[0mself\u001B[0m\u001B[1;33m.\u001B[0m\u001B[0m_constructor\u001B[0m\u001B[1;33m(\u001B[0m\u001B[0mnew_data\u001B[0m\u001B[1;33m)\u001B[0m\u001B[1;33m.\u001B[0m\u001B[0m__finalize__\u001B[0m\u001B[1;33m(\u001B[0m\u001B[0mself\u001B[0m\u001B[1;33m,\u001B[0m \u001B[0mmethod\u001B[0m\u001B[1;33m=\u001B[0m\u001B[1;34m\"astype\"\u001B[0m\u001B[1;33m)\u001B[0m\u001B[1;33m\u001B[0m\u001B[1;33m\u001B[0m\u001B[0m\n\u001B[0;32m   5550\u001B[0m \u001B[1;33m\u001B[0m\u001B[0m\n",
      "\u001B[1;32m~\\AppData\\Roaming\\Python\\Python38\\site-packages\\pandas\\core\\internals\\managers.py\u001B[0m in \u001B[0;36mastype\u001B[1;34m(self, dtype, copy, errors)\u001B[0m\n\u001B[0;32m    602\u001B[0m         \u001B[0mself\u001B[0m\u001B[1;33m,\u001B[0m \u001B[0mdtype\u001B[0m\u001B[1;33m,\u001B[0m \u001B[0mcopy\u001B[0m\u001B[1;33m:\u001B[0m \u001B[0mbool\u001B[0m \u001B[1;33m=\u001B[0m \u001B[1;32mFalse\u001B[0m\u001B[1;33m,\u001B[0m \u001B[0merrors\u001B[0m\u001B[1;33m:\u001B[0m \u001B[0mstr\u001B[0m \u001B[1;33m=\u001B[0m \u001B[1;34m\"raise\"\u001B[0m\u001B[1;33m\u001B[0m\u001B[1;33m\u001B[0m\u001B[0m\n\u001B[0;32m    603\u001B[0m     ) -> \"BlockManager\":\n\u001B[1;32m--> 604\u001B[1;33m         \u001B[1;32mreturn\u001B[0m \u001B[0mself\u001B[0m\u001B[1;33m.\u001B[0m\u001B[0mapply\u001B[0m\u001B[1;33m(\u001B[0m\u001B[1;34m\"astype\"\u001B[0m\u001B[1;33m,\u001B[0m \u001B[0mdtype\u001B[0m\u001B[1;33m=\u001B[0m\u001B[0mdtype\u001B[0m\u001B[1;33m,\u001B[0m \u001B[0mcopy\u001B[0m\u001B[1;33m=\u001B[0m\u001B[0mcopy\u001B[0m\u001B[1;33m,\u001B[0m \u001B[0merrors\u001B[0m\u001B[1;33m=\u001B[0m\u001B[0merrors\u001B[0m\u001B[1;33m)\u001B[0m\u001B[1;33m\u001B[0m\u001B[1;33m\u001B[0m\u001B[0m\n\u001B[0m\u001B[0;32m    605\u001B[0m \u001B[1;33m\u001B[0m\u001B[0m\n\u001B[0;32m    606\u001B[0m     def convert(\n",
      "\u001B[1;32m~\\AppData\\Roaming\\Python\\Python38\\site-packages\\pandas\\core\\internals\\managers.py\u001B[0m in \u001B[0;36mapply\u001B[1;34m(self, f, align_keys, **kwargs)\u001B[0m\n\u001B[0;32m    407\u001B[0m                 \u001B[0mapplied\u001B[0m \u001B[1;33m=\u001B[0m \u001B[0mb\u001B[0m\u001B[1;33m.\u001B[0m\u001B[0mapply\u001B[0m\u001B[1;33m(\u001B[0m\u001B[0mf\u001B[0m\u001B[1;33m,\u001B[0m \u001B[1;33m**\u001B[0m\u001B[0mkwargs\u001B[0m\u001B[1;33m)\u001B[0m\u001B[1;33m\u001B[0m\u001B[1;33m\u001B[0m\u001B[0m\n\u001B[0;32m    408\u001B[0m             \u001B[1;32melse\u001B[0m\u001B[1;33m:\u001B[0m\u001B[1;33m\u001B[0m\u001B[1;33m\u001B[0m\u001B[0m\n\u001B[1;32m--> 409\u001B[1;33m                 \u001B[0mapplied\u001B[0m \u001B[1;33m=\u001B[0m \u001B[0mgetattr\u001B[0m\u001B[1;33m(\u001B[0m\u001B[0mb\u001B[0m\u001B[1;33m,\u001B[0m \u001B[0mf\u001B[0m\u001B[1;33m)\u001B[0m\u001B[1;33m(\u001B[0m\u001B[1;33m**\u001B[0m\u001B[0mkwargs\u001B[0m\u001B[1;33m)\u001B[0m\u001B[1;33m\u001B[0m\u001B[1;33m\u001B[0m\u001B[0m\n\u001B[0m\u001B[0;32m    410\u001B[0m             \u001B[0mresult_blocks\u001B[0m \u001B[1;33m=\u001B[0m \u001B[0m_extend_blocks\u001B[0m\u001B[1;33m(\u001B[0m\u001B[0mapplied\u001B[0m\u001B[1;33m,\u001B[0m \u001B[0mresult_blocks\u001B[0m\u001B[1;33m)\u001B[0m\u001B[1;33m\u001B[0m\u001B[1;33m\u001B[0m\u001B[0m\n\u001B[0;32m    411\u001B[0m \u001B[1;33m\u001B[0m\u001B[0m\n",
      "\u001B[1;32m~\\AppData\\Roaming\\Python\\Python38\\site-packages\\pandas\\core\\internals\\blocks.py\u001B[0m in \u001B[0;36mastype\u001B[1;34m(self, dtype, copy, errors)\u001B[0m\n\u001B[0;32m    593\u001B[0m             \u001B[0mvals1d\u001B[0m \u001B[1;33m=\u001B[0m \u001B[0mvalues\u001B[0m\u001B[1;33m.\u001B[0m\u001B[0mravel\u001B[0m\u001B[1;33m(\u001B[0m\u001B[1;33m)\u001B[0m\u001B[1;33m\u001B[0m\u001B[1;33m\u001B[0m\u001B[0m\n\u001B[0;32m    594\u001B[0m             \u001B[1;32mtry\u001B[0m\u001B[1;33m:\u001B[0m\u001B[1;33m\u001B[0m\u001B[1;33m\u001B[0m\u001B[0m\n\u001B[1;32m--> 595\u001B[1;33m                 \u001B[0mvalues\u001B[0m \u001B[1;33m=\u001B[0m \u001B[0mastype_nansafe\u001B[0m\u001B[1;33m(\u001B[0m\u001B[0mvals1d\u001B[0m\u001B[1;33m,\u001B[0m \u001B[0mdtype\u001B[0m\u001B[1;33m,\u001B[0m \u001B[0mcopy\u001B[0m\u001B[1;33m=\u001B[0m\u001B[1;32mTrue\u001B[0m\u001B[1;33m)\u001B[0m\u001B[1;33m\u001B[0m\u001B[1;33m\u001B[0m\u001B[0m\n\u001B[0m\u001B[0;32m    596\u001B[0m             \u001B[1;32mexcept\u001B[0m \u001B[1;33m(\u001B[0m\u001B[0mValueError\u001B[0m\u001B[1;33m,\u001B[0m \u001B[0mTypeError\u001B[0m\u001B[1;33m)\u001B[0m\u001B[1;33m:\u001B[0m\u001B[1;33m\u001B[0m\u001B[1;33m\u001B[0m\u001B[0m\n\u001B[0;32m    597\u001B[0m                 \u001B[1;31m# e.g. astype_nansafe can fail on object-dtype of strings\u001B[0m\u001B[1;33m\u001B[0m\u001B[1;33m\u001B[0m\u001B[1;33m\u001B[0m\u001B[0m\n",
      "\u001B[1;32m~\\AppData\\Roaming\\Python\\Python38\\site-packages\\pandas\\core\\dtypes\\cast.py\u001B[0m in \u001B[0;36mastype_nansafe\u001B[1;34m(arr, dtype, copy, skipna)\u001B[0m\n\u001B[0;32m    995\u001B[0m     \u001B[1;32mif\u001B[0m \u001B[0mcopy\u001B[0m \u001B[1;32mor\u001B[0m \u001B[0mis_object_dtype\u001B[0m\u001B[1;33m(\u001B[0m\u001B[0marr\u001B[0m\u001B[1;33m)\u001B[0m \u001B[1;32mor\u001B[0m \u001B[0mis_object_dtype\u001B[0m\u001B[1;33m(\u001B[0m\u001B[0mdtype\u001B[0m\u001B[1;33m)\u001B[0m\u001B[1;33m:\u001B[0m\u001B[1;33m\u001B[0m\u001B[1;33m\u001B[0m\u001B[0m\n\u001B[0;32m    996\u001B[0m         \u001B[1;31m# Explicit copy, or required since NumPy can't view from / to object.\u001B[0m\u001B[1;33m\u001B[0m\u001B[1;33m\u001B[0m\u001B[1;33m\u001B[0m\u001B[0m\n\u001B[1;32m--> 997\u001B[1;33m         \u001B[1;32mreturn\u001B[0m \u001B[0marr\u001B[0m\u001B[1;33m.\u001B[0m\u001B[0mastype\u001B[0m\u001B[1;33m(\u001B[0m\u001B[0mdtype\u001B[0m\u001B[1;33m,\u001B[0m \u001B[0mcopy\u001B[0m\u001B[1;33m=\u001B[0m\u001B[1;32mTrue\u001B[0m\u001B[1;33m)\u001B[0m\u001B[1;33m\u001B[0m\u001B[1;33m\u001B[0m\u001B[0m\n\u001B[0m\u001B[0;32m    998\u001B[0m \u001B[1;33m\u001B[0m\u001B[0m\n\u001B[0;32m    999\u001B[0m     \u001B[1;32mreturn\u001B[0m \u001B[0marr\u001B[0m\u001B[1;33m.\u001B[0m\u001B[0mview\u001B[0m\u001B[1;33m(\u001B[0m\u001B[0mdtype\u001B[0m\u001B[1;33m)\u001B[0m\u001B[1;33m\u001B[0m\u001B[1;33m\u001B[0m\u001B[0m\n",
      "\u001B[1;31mValueError\u001B[0m: could not convert string to float: 'Dec'"
     ]
    }
   ],
   "source": [
    "mpg_columns = ['city_mpg', 'hwy_mpg', 'cmb_mpg']\n",
    "for c in mpg_columns:\n",
    "    df08[c] = df08[c].astype(float)\n",
    "    df18[c] = df18[c].astype(float)"
   ],
   "metadata": {
    "collapsed": false,
    "pycharm": {
     "name": "#%%\n"
    }
   }
  },
  {
   "cell_type": "code",
   "execution_count": 31,
   "outputs": [
    {
     "data": {
      "text/plain": "                       model  displ  cyl       trans drive      fuel  \\\n0                  ACURA RDX    3.5    6  SemiAuto-6   2WD  Gasoline   \n1                  ACURA RDX    3.5    6  SemiAuto-6   4WD  Gasoline   \n2                  ACURA TLX    2.4    4       AMS-8   2WD  Gasoline   \n3                  ACURA TLX    3.5    6  SemiAuto-9   2WD  Gasoline   \n4                  ACURA TLX    3.5    6  SemiAuto-9   4WD  Gasoline   \n..                       ...    ...  ...         ...   ...       ...   \n835  CHEVROLET Suburban 1500    5.3    8      Auto-6   4WD       Gas   \n836        GMC Yukon XL 1500    5.3    8      Auto-6   4WD       Gas   \n837       TOYOTA Sequoia FFV    5.7    8  SemiAuto-6   4WD       Gas   \n838        TOYOTA Tundra FFV    5.7    8  SemiAuto-6   4WD       Gas   \n839        TOYOTA Tundra FFV    5.7    8  SemiAuto-6   4WD       Gas   \n\n        veh_class  air_pollution_score city_mpg hwy_mpg cmb_mpg  \\\n0       small SUV                  3.0       20      28      23   \n1       small SUV                  3.0       19      27      22   \n2       small car                  3.0       23      33      27   \n3       small car                  3.0       20      32      24   \n4       small car                  3.0       21      30      24   \n..            ...                  ...      ...     ...     ...   \n835  standard SUV                  3.0       12      12      12   \n836  standard SUV                  3.0       12      12      12   \n837  standard SUV                  5.0       10      10      10   \n838        pickup                  5.0       10      10      10   \n839        pickup                  5.0       10      10      10   \n\n     greenhouse_gas_score smartway  \n0                       5       No  \n1                       4       No  \n2                       6       No  \n3                       5       No  \n4                       5       No  \n..                    ...      ...  \n835                     3       No  \n836                     3       No  \n837                     1       No  \n838                     2       No  \n839                     2       No  \n\n[840 rows x 13 columns]",
      "text/html": "<div>\n<style scoped>\n    .dataframe tbody tr th:only-of-type {\n        vertical-align: middle;\n    }\n\n    .dataframe tbody tr th {\n        vertical-align: top;\n    }\n\n    .dataframe thead th {\n        text-align: right;\n    }\n</style>\n<table border=\"1\" class=\"dataframe\">\n  <thead>\n    <tr style=\"text-align: right;\">\n      <th></th>\n      <th>model</th>\n      <th>displ</th>\n      <th>cyl</th>\n      <th>trans</th>\n      <th>drive</th>\n      <th>fuel</th>\n      <th>veh_class</th>\n      <th>air_pollution_score</th>\n      <th>city_mpg</th>\n      <th>hwy_mpg</th>\n      <th>cmb_mpg</th>\n      <th>greenhouse_gas_score</th>\n      <th>smartway</th>\n    </tr>\n  </thead>\n  <tbody>\n    <tr>\n      <th>0</th>\n      <td>ACURA RDX</td>\n      <td>3.5</td>\n      <td>6</td>\n      <td>SemiAuto-6</td>\n      <td>2WD</td>\n      <td>Gasoline</td>\n      <td>small SUV</td>\n      <td>3.0</td>\n      <td>20</td>\n      <td>28</td>\n      <td>23</td>\n      <td>5</td>\n      <td>No</td>\n    </tr>\n    <tr>\n      <th>1</th>\n      <td>ACURA RDX</td>\n      <td>3.5</td>\n      <td>6</td>\n      <td>SemiAuto-6</td>\n      <td>4WD</td>\n      <td>Gasoline</td>\n      <td>small SUV</td>\n      <td>3.0</td>\n      <td>19</td>\n      <td>27</td>\n      <td>22</td>\n      <td>4</td>\n      <td>No</td>\n    </tr>\n    <tr>\n      <th>2</th>\n      <td>ACURA TLX</td>\n      <td>2.4</td>\n      <td>4</td>\n      <td>AMS-8</td>\n      <td>2WD</td>\n      <td>Gasoline</td>\n      <td>small car</td>\n      <td>3.0</td>\n      <td>23</td>\n      <td>33</td>\n      <td>27</td>\n      <td>6</td>\n      <td>No</td>\n    </tr>\n    <tr>\n      <th>3</th>\n      <td>ACURA TLX</td>\n      <td>3.5</td>\n      <td>6</td>\n      <td>SemiAuto-9</td>\n      <td>2WD</td>\n      <td>Gasoline</td>\n      <td>small car</td>\n      <td>3.0</td>\n      <td>20</td>\n      <td>32</td>\n      <td>24</td>\n      <td>5</td>\n      <td>No</td>\n    </tr>\n    <tr>\n      <th>4</th>\n      <td>ACURA TLX</td>\n      <td>3.5</td>\n      <td>6</td>\n      <td>SemiAuto-9</td>\n      <td>4WD</td>\n      <td>Gasoline</td>\n      <td>small car</td>\n      <td>3.0</td>\n      <td>21</td>\n      <td>30</td>\n      <td>24</td>\n      <td>5</td>\n      <td>No</td>\n    </tr>\n    <tr>\n      <th>...</th>\n      <td>...</td>\n      <td>...</td>\n      <td>...</td>\n      <td>...</td>\n      <td>...</td>\n      <td>...</td>\n      <td>...</td>\n      <td>...</td>\n      <td>...</td>\n      <td>...</td>\n      <td>...</td>\n      <td>...</td>\n      <td>...</td>\n    </tr>\n    <tr>\n      <th>835</th>\n      <td>CHEVROLET Suburban 1500</td>\n      <td>5.3</td>\n      <td>8</td>\n      <td>Auto-6</td>\n      <td>4WD</td>\n      <td>Gas</td>\n      <td>standard SUV</td>\n      <td>3.0</td>\n      <td>12</td>\n      <td>12</td>\n      <td>12</td>\n      <td>3</td>\n      <td>No</td>\n    </tr>\n    <tr>\n      <th>836</th>\n      <td>GMC Yukon XL 1500</td>\n      <td>5.3</td>\n      <td>8</td>\n      <td>Auto-6</td>\n      <td>4WD</td>\n      <td>Gas</td>\n      <td>standard SUV</td>\n      <td>3.0</td>\n      <td>12</td>\n      <td>12</td>\n      <td>12</td>\n      <td>3</td>\n      <td>No</td>\n    </tr>\n    <tr>\n      <th>837</th>\n      <td>TOYOTA Sequoia FFV</td>\n      <td>5.7</td>\n      <td>8</td>\n      <td>SemiAuto-6</td>\n      <td>4WD</td>\n      <td>Gas</td>\n      <td>standard SUV</td>\n      <td>5.0</td>\n      <td>10</td>\n      <td>10</td>\n      <td>10</td>\n      <td>1</td>\n      <td>No</td>\n    </tr>\n    <tr>\n      <th>838</th>\n      <td>TOYOTA Tundra FFV</td>\n      <td>5.7</td>\n      <td>8</td>\n      <td>SemiAuto-6</td>\n      <td>4WD</td>\n      <td>Gas</td>\n      <td>pickup</td>\n      <td>5.0</td>\n      <td>10</td>\n      <td>10</td>\n      <td>10</td>\n      <td>2</td>\n      <td>No</td>\n    </tr>\n    <tr>\n      <th>839</th>\n      <td>TOYOTA Tundra FFV</td>\n      <td>5.7</td>\n      <td>8</td>\n      <td>SemiAuto-6</td>\n      <td>4WD</td>\n      <td>Gas</td>\n      <td>pickup</td>\n      <td>5.0</td>\n      <td>10</td>\n      <td>10</td>\n      <td>10</td>\n      <td>2</td>\n      <td>No</td>\n    </tr>\n  </tbody>\n</table>\n<p>840 rows × 13 columns</p>\n</div>"
     },
     "execution_count": 31,
     "metadata": {},
     "output_type": "execute_result"
    }
   ],
   "source": [
    "def month_to_int(e):\n",
    "    if e == 'Dec': return 12\n",
    "    elif e == 'Nov': return 11\n",
    "    elif e == 'Oct': return 10\n",
    "    elif e == 'Sep': return 9\n",
    "    else: return e\n",
    "\n",
    "def fix_error(df18):\n",
    "    # Data Frame Masks\n",
    "    pattern = 'Dec|Nov|Oct|Sep'\n",
    "    df18m_city_mpg = df18[df18.city_mpg.str.contains(pattern, regex=True)]\n",
    "    df18m_hwy_mpg = df18[df18.hwy_mpg.str.contains(pattern, regex=True)]\n",
    "    df18m_cmb_mpg = df18[df18.cmb_mpg.str.contains(pattern, regex=True)]\n",
    "\n",
    "    # create copies of the masks\n",
    "    dfc1 = df18m_city_mpg.copy()\n",
    "    dfc2 = df18m_hwy_mpg.copy()\n",
    "    dfc3 = df18m_cmb_mpg.copy()\n",
    "    orig_rows = dfc1.append(dfc2).append(dfc3)\n",
    "\n",
    "    for mc in mpg_columns:\n",
    "        dfc1[mc] = dfc1.city_mpg.apply(month_to_int)\n",
    "        dfc2[mc] = dfc2.hwy_mpg.apply(month_to_int)\n",
    "        dfc3[mc] = dfc3.cmb_mpg.apply(month_to_int)\n",
    "\n",
    "    new_rows = dfc1.append(dfc2).append(dfc3)\n",
    "    df18.drop(index=orig_rows.index, inplace=True)\n",
    "    return df18.append(new_rows, ignore_index=True)\n",
    "\n",
    "df18 = fix_error(df18)\n",
    "df18"
   ],
   "metadata": {
    "collapsed": false,
    "pycharm": {
     "name": "#%%\n"
    }
   }
  },
  {
   "cell_type": "code",
   "execution_count": 32,
   "outputs": [],
   "source": [
    "for c in mpg_columns:\n",
    "    df08[c] = df08[c].astype(float)\n",
    "    df18[c] = df18[c].astype(float)"
   ],
   "metadata": {
    "collapsed": false,
    "pycharm": {
     "name": "#%%\n"
    }
   }
  },
  {
   "cell_type": "code",
   "execution_count": 37,
   "outputs": [],
   "source": [
    "df08.greenhouse_gas_score = df08.greenhouse_gas_score.astype(int)\n",
    "df18.greenhouse_gas_score = df18.greenhouse_gas_score.astype(int)"
   ],
   "metadata": {
    "collapsed": false,
    "pycharm": {
     "name": "#%%\n"
    }
   }
  },
  {
   "cell_type": "code",
   "execution_count": 38,
   "outputs": [
    {
     "data": {
      "text/plain": "model                    object\ndispl                   float64\ncyl                       int64\ntrans                    object\ndrive                    object\nfuel                     object\nveh_class                object\nair_pollution_score     float64\ncity_mpg                float64\nhwy_mpg                 float64\ncmb_mpg                 float64\ngreenhouse_gas_score      int32\nsmartway                 object\ndtype: object"
     },
     "execution_count": 38,
     "metadata": {},
     "output_type": "execute_result"
    }
   ],
   "source": [
    "df08.dtypes"
   ],
   "metadata": {
    "collapsed": false,
    "pycharm": {
     "name": "#%%\n"
    }
   }
  },
  {
   "cell_type": "code",
   "execution_count": 39,
   "outputs": [
    {
     "data": {
      "text/plain": "model                    object\ndispl                   float64\ncyl                       int64\ntrans                    object\ndrive                    object\nfuel                     object\nveh_class                object\nair_pollution_score     float64\ncity_mpg                float64\nhwy_mpg                 float64\ncmb_mpg                 float64\ngreenhouse_gas_score      int32\nsmartway                 object\ndtype: object"
     },
     "execution_count": 39,
     "metadata": {},
     "output_type": "execute_result"
    }
   ],
   "source": [
    "df18.dtypes"
   ],
   "metadata": {
    "collapsed": false,
    "pycharm": {
     "name": "#%%\n"
    }
   }
  },
  {
   "cell_type": "code",
   "execution_count": 40,
   "outputs": [
    {
     "data": {
      "text/plain": "model                   True\ndispl                   True\ncyl                     True\ntrans                   True\ndrive                   True\nfuel                    True\nveh_class               True\nair_pollution_score     True\ncity_mpg                True\nhwy_mpg                 True\ncmb_mpg                 True\ngreenhouse_gas_score    True\nsmartway                True\ndtype: bool"
     },
     "execution_count": 40,
     "metadata": {},
     "output_type": "execute_result"
    }
   ],
   "source": [
    "df08.dtypes == df18.dtypes"
   ],
   "metadata": {
    "collapsed": false,
    "pycharm": {
     "name": "#%%\n"
    }
   }
  },
  {
   "cell_type": "code",
   "execution_count": 41,
   "outputs": [],
   "source": [
    "# Save your final CLEAN datasets as new files!\n",
    "df08.to_csv('../data/clean_08.csv', index=False)\n",
    "df18.to_csv('../data/clean_18.csv', index=False)"
   ],
   "metadata": {
    "collapsed": false,
    "pycharm": {
     "name": "#%%\n"
    }
   }
  },
  {
   "cell_type": "code",
   "execution_count": null,
   "outputs": [],
   "source": [],
   "metadata": {
    "collapsed": false,
    "pycharm": {
     "name": "#%%\n"
    }
   }
  }
 ],
 "metadata": {
  "kernelspec": {
   "display_name": "Python 3",
   "language": "python",
   "name": "python3"
  },
  "language_info": {
   "codemirror_mode": {
    "name": "ipython",
    "version": 2
   },
   "file_extension": ".py",
   "mimetype": "text/x-python",
   "name": "python",
   "nbconvert_exporter": "python",
   "pygments_lexer": "ipython2",
   "version": "2.7.6"
  }
 },
 "nbformat": 4,
 "nbformat_minor": 0
}