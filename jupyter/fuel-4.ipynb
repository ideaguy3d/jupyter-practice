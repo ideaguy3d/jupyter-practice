{
 "cells": [
  {
   "cell_type": "markdown",
   "source": [
    "# Fixing the `air_pollution_score` data type\n",
    "### Fixing data type p4"
   ],
   "metadata": {
    "collapsed": false
   }
  },
  {
   "cell_type": "code",
   "execution_count": 156,
   "outputs": [],
   "source": [
    "import pandas as pd\n",
    "\n",
    "df08 = pd.read_csv('data/data_08_v3.csv')\n",
    "df18 = pd.read_csv('data/data_18_v3.csv')"
   ],
   "metadata": {
    "collapsed": false,
    "pycharm": {
     "name": "#%%\n"
    }
   }
  },
  {
   "cell_type": "code",
   "execution_count": 157,
   "outputs": [
    {
     "data": {
      "text/plain": "       model  displ  cyl    trans drive      fuel    veh_class  \\\n0  ACURA MDX    3.7    6  Auto-S5   4WD  Gasoline          SUV   \n1  ACURA RDX    2.3    4  Auto-S5   4WD  Gasoline          SUV   \n2   ACURA RL    3.5    6  Auto-S5   4WD  Gasoline  midsize car   \n3   ACURA TL    3.2    6  Auto-S5   2WD  Gasoline  midsize car   \n4   ACURA TL    3.5    6  Auto-S5   2WD  Gasoline  midsize car   \n\n  air_pollution_score city_mpg hwy_mpg cmb_mpg greenhouse_gas_score smartway  \n0                   7       15      20      17                    4       no  \n1                   7       17      22      19                    5       no  \n2                   7       16      24      19                    5       no  \n3                   7       18      26      21                    6      yes  \n4                   7       17      26      20                    6      yes  ",
      "text/html": "<div>\n<style scoped>\n    .dataframe tbody tr th:only-of-type {\n        vertical-align: middle;\n    }\n\n    .dataframe tbody tr th {\n        vertical-align: top;\n    }\n\n    .dataframe thead th {\n        text-align: right;\n    }\n</style>\n<table border=\"1\" class=\"dataframe\">\n  <thead>\n    <tr style=\"text-align: right;\">\n      <th></th>\n      <th>model</th>\n      <th>displ</th>\n      <th>cyl</th>\n      <th>trans</th>\n      <th>drive</th>\n      <th>fuel</th>\n      <th>veh_class</th>\n      <th>air_pollution_score</th>\n      <th>city_mpg</th>\n      <th>hwy_mpg</th>\n      <th>cmb_mpg</th>\n      <th>greenhouse_gas_score</th>\n      <th>smartway</th>\n    </tr>\n  </thead>\n  <tbody>\n    <tr>\n      <th>0</th>\n      <td>ACURA MDX</td>\n      <td>3.7</td>\n      <td>6</td>\n      <td>Auto-S5</td>\n      <td>4WD</td>\n      <td>Gasoline</td>\n      <td>SUV</td>\n      <td>7</td>\n      <td>15</td>\n      <td>20</td>\n      <td>17</td>\n      <td>4</td>\n      <td>no</td>\n    </tr>\n    <tr>\n      <th>1</th>\n      <td>ACURA RDX</td>\n      <td>2.3</td>\n      <td>4</td>\n      <td>Auto-S5</td>\n      <td>4WD</td>\n      <td>Gasoline</td>\n      <td>SUV</td>\n      <td>7</td>\n      <td>17</td>\n      <td>22</td>\n      <td>19</td>\n      <td>5</td>\n      <td>no</td>\n    </tr>\n    <tr>\n      <th>2</th>\n      <td>ACURA RL</td>\n      <td>3.5</td>\n      <td>6</td>\n      <td>Auto-S5</td>\n      <td>4WD</td>\n      <td>Gasoline</td>\n      <td>midsize car</td>\n      <td>7</td>\n      <td>16</td>\n      <td>24</td>\n      <td>19</td>\n      <td>5</td>\n      <td>no</td>\n    </tr>\n    <tr>\n      <th>3</th>\n      <td>ACURA TL</td>\n      <td>3.2</td>\n      <td>6</td>\n      <td>Auto-S5</td>\n      <td>2WD</td>\n      <td>Gasoline</td>\n      <td>midsize car</td>\n      <td>7</td>\n      <td>18</td>\n      <td>26</td>\n      <td>21</td>\n      <td>6</td>\n      <td>yes</td>\n    </tr>\n    <tr>\n      <th>4</th>\n      <td>ACURA TL</td>\n      <td>3.5</td>\n      <td>6</td>\n      <td>Auto-S5</td>\n      <td>2WD</td>\n      <td>Gasoline</td>\n      <td>midsize car</td>\n      <td>7</td>\n      <td>17</td>\n      <td>26</td>\n      <td>20</td>\n      <td>6</td>\n      <td>yes</td>\n    </tr>\n  </tbody>\n</table>\n</div>"
     },
     "execution_count": 157,
     "metadata": {},
     "output_type": "execute_result"
    }
   ],
   "source": [
    "df08.head()"
   ],
   "metadata": {
    "collapsed": false,
    "pycharm": {
     "name": "#%%\n"
    }
   }
  },
  {
   "cell_type": "code",
   "execution_count": 158,
   "outputs": [
    {
     "data": {
      "text/plain": "       model  displ  cyl       trans drive      fuel  veh_class  \\\n0  ACURA RDX    3.5    6  SemiAuto-6   2WD  Gasoline  small SUV   \n1  ACURA RDX    3.5    6  SemiAuto-6   4WD  Gasoline  small SUV   \n2  ACURA TLX    2.4    4       AMS-8   2WD  Gasoline  small car   \n3  ACURA TLX    3.5    6  SemiAuto-9   2WD  Gasoline  small car   \n4  ACURA TLX    3.5    6  SemiAuto-9   4WD  Gasoline  small car   \n\n   air_pollution_score city_mpg hwy_mpg cmb_mpg  greenhouse_gas_score smartway  \n0                    3       20      28      23                     5       No  \n1                    3       19      27      22                     4       No  \n2                    3       23      33      27                     6       No  \n3                    3       20      32      24                     5       No  \n4                    3       21      30      24                     5       No  ",
      "text/html": "<div>\n<style scoped>\n    .dataframe tbody tr th:only-of-type {\n        vertical-align: middle;\n    }\n\n    .dataframe tbody tr th {\n        vertical-align: top;\n    }\n\n    .dataframe thead th {\n        text-align: right;\n    }\n</style>\n<table border=\"1\" class=\"dataframe\">\n  <thead>\n    <tr style=\"text-align: right;\">\n      <th></th>\n      <th>model</th>\n      <th>displ</th>\n      <th>cyl</th>\n      <th>trans</th>\n      <th>drive</th>\n      <th>fuel</th>\n      <th>veh_class</th>\n      <th>air_pollution_score</th>\n      <th>city_mpg</th>\n      <th>hwy_mpg</th>\n      <th>cmb_mpg</th>\n      <th>greenhouse_gas_score</th>\n      <th>smartway</th>\n    </tr>\n  </thead>\n  <tbody>\n    <tr>\n      <th>0</th>\n      <td>ACURA RDX</td>\n      <td>3.5</td>\n      <td>6</td>\n      <td>SemiAuto-6</td>\n      <td>2WD</td>\n      <td>Gasoline</td>\n      <td>small SUV</td>\n      <td>3</td>\n      <td>20</td>\n      <td>28</td>\n      <td>23</td>\n      <td>5</td>\n      <td>No</td>\n    </tr>\n    <tr>\n      <th>1</th>\n      <td>ACURA RDX</td>\n      <td>3.5</td>\n      <td>6</td>\n      <td>SemiAuto-6</td>\n      <td>4WD</td>\n      <td>Gasoline</td>\n      <td>small SUV</td>\n      <td>3</td>\n      <td>19</td>\n      <td>27</td>\n      <td>22</td>\n      <td>4</td>\n      <td>No</td>\n    </tr>\n    <tr>\n      <th>2</th>\n      <td>ACURA TLX</td>\n      <td>2.4</td>\n      <td>4</td>\n      <td>AMS-8</td>\n      <td>2WD</td>\n      <td>Gasoline</td>\n      <td>small car</td>\n      <td>3</td>\n      <td>23</td>\n      <td>33</td>\n      <td>27</td>\n      <td>6</td>\n      <td>No</td>\n    </tr>\n    <tr>\n      <th>3</th>\n      <td>ACURA TLX</td>\n      <td>3.5</td>\n      <td>6</td>\n      <td>SemiAuto-9</td>\n      <td>2WD</td>\n      <td>Gasoline</td>\n      <td>small car</td>\n      <td>3</td>\n      <td>20</td>\n      <td>32</td>\n      <td>24</td>\n      <td>5</td>\n      <td>No</td>\n    </tr>\n    <tr>\n      <th>4</th>\n      <td>ACURA TLX</td>\n      <td>3.5</td>\n      <td>6</td>\n      <td>SemiAuto-9</td>\n      <td>4WD</td>\n      <td>Gasoline</td>\n      <td>small car</td>\n      <td>3</td>\n      <td>21</td>\n      <td>30</td>\n      <td>24</td>\n      <td>5</td>\n      <td>No</td>\n    </tr>\n  </tbody>\n</table>\n</div>"
     },
     "execution_count": 158,
     "metadata": {},
     "output_type": "execute_result"
    }
   ],
   "source": [
    "df18.head()"
   ],
   "metadata": {
    "collapsed": false,
    "pycharm": {
     "name": "#%%\n"
    }
   }
  },
  {
   "cell_type": "code",
   "execution_count": 159,
   "outputs": [
    {
     "data": {
      "text/plain": "                  model  displ  cyl    trans drive         fuel  veh_class  \\\n582  MERCEDES-BENZ C300    3.0    6  Auto-L7   2WD  ethanol/gas  small car   \n\n    air_pollution_score city_mpg hwy_mpg cmb_mpg greenhouse_gas_score smartway  \n582                 6/4    13/18   19/25   15/21                  7/6       no  ",
      "text/html": "<div>\n<style scoped>\n    .dataframe tbody tr th:only-of-type {\n        vertical-align: middle;\n    }\n\n    .dataframe tbody tr th {\n        vertical-align: top;\n    }\n\n    .dataframe thead th {\n        text-align: right;\n    }\n</style>\n<table border=\"1\" class=\"dataframe\">\n  <thead>\n    <tr style=\"text-align: right;\">\n      <th></th>\n      <th>model</th>\n      <th>displ</th>\n      <th>cyl</th>\n      <th>trans</th>\n      <th>drive</th>\n      <th>fuel</th>\n      <th>veh_class</th>\n      <th>air_pollution_score</th>\n      <th>city_mpg</th>\n      <th>hwy_mpg</th>\n      <th>cmb_mpg</th>\n      <th>greenhouse_gas_score</th>\n      <th>smartway</th>\n    </tr>\n  </thead>\n  <tbody>\n    <tr>\n      <th>582</th>\n      <td>MERCEDES-BENZ C300</td>\n      <td>3.0</td>\n      <td>6</td>\n      <td>Auto-L7</td>\n      <td>2WD</td>\n      <td>ethanol/gas</td>\n      <td>small car</td>\n      <td>6/4</td>\n      <td>13/18</td>\n      <td>19/25</td>\n      <td>15/21</td>\n      <td>7/6</td>\n      <td>no</td>\n    </tr>\n  </tbody>\n</table>\n</div>"
     },
     "execution_count": 159,
     "metadata": {},
     "output_type": "execute_result"
    }
   ],
   "source": [
    "df08[df08.air_pollution_score == '6/4']"
   ],
   "metadata": {
    "collapsed": false,
    "pycharm": {
     "name": "#%%\n"
    }
   }
  },
  {
   "cell_type": "code",
   "execution_count": 160,
   "outputs": [
    {
     "data": {
      "text/plain": "                  model  displ  cyl    trans drive         fuel  veh_class  \\\n582  MERCEDES-BENZ C300    3.0    6  Auto-L7   2WD  ethanol/gas  small car   \n\n    air_pollution_score city_mpg hwy_mpg cmb_mpg greenhouse_gas_score smartway  \n582                 6/4    13/18   19/25   15/21                  7/6       no  ",
      "text/html": "<div>\n<style scoped>\n    .dataframe tbody tr th:only-of-type {\n        vertical-align: middle;\n    }\n\n    .dataframe tbody tr th {\n        vertical-align: top;\n    }\n\n    .dataframe thead th {\n        text-align: right;\n    }\n</style>\n<table border=\"1\" class=\"dataframe\">\n  <thead>\n    <tr style=\"text-align: right;\">\n      <th></th>\n      <th>model</th>\n      <th>displ</th>\n      <th>cyl</th>\n      <th>trans</th>\n      <th>drive</th>\n      <th>fuel</th>\n      <th>veh_class</th>\n      <th>air_pollution_score</th>\n      <th>city_mpg</th>\n      <th>hwy_mpg</th>\n      <th>cmb_mpg</th>\n      <th>greenhouse_gas_score</th>\n      <th>smartway</th>\n    </tr>\n  </thead>\n  <tbody>\n    <tr>\n      <th>582</th>\n      <td>MERCEDES-BENZ C300</td>\n      <td>3.0</td>\n      <td>6</td>\n      <td>Auto-L7</td>\n      <td>2WD</td>\n      <td>ethanol/gas</td>\n      <td>small car</td>\n      <td>6/4</td>\n      <td>13/18</td>\n      <td>19/25</td>\n      <td>15/21</td>\n      <td>7/6</td>\n      <td>no</td>\n    </tr>\n  </tbody>\n</table>\n</div>"
     },
     "execution_count": 160,
     "metadata": {},
     "output_type": "execute_result"
    }
   ],
   "source": [
    "hb08 = df08[df08['fuel'].str.contains('/')]\n",
    "hb08"
   ],
   "metadata": {
    "collapsed": false,
    "pycharm": {
     "name": "#%%\n"
    }
   }
  },
  {
   "cell_type": "code",
   "execution_count": 161,
   "outputs": [
    {
     "data": {
      "text/plain": "                                 model  displ  cyl       trans drive  \\\n52                            BMW 330e    2.0    4  SemiAuto-8   2WD   \n78                            BMW 530e    2.0    4  SemiAuto-8   2WD   \n79                            BMW 530e    2.0    4  SemiAuto-8   4WD   \n92                            BMW 740e    2.0    4  SemiAuto-8   4WD   \n189                   CHEVROLET Impala    3.6    6  SemiAuto-6   2WD   \n195             CHEVROLET Silverado 15    4.3    6      Auto-6   2WD   \n196             CHEVROLET Silverado 15    4.3    6      Auto-6   4WD   \n197             CHEVROLET Silverado 15    5.3    8      Auto-6   2WD   \n212            CHEVROLET Suburban 1500    5.3    8      Auto-6   2WD   \n214            CHEVROLET Suburban 1500    5.3    8      Auto-6   4WD   \n216               CHEVROLET Tahoe 1500    5.3    8      Auto-6   2WD   \n218               CHEVROLET Tahoe 1500    5.3    8      Auto-6   4WD   \n225                     CHEVROLET Volt    1.5    4         CVT   2WD   \n226                     CHEVROLET Volt    1.5    4         CVT   2WD   \n227                       CHRYSLER 300    3.6    6      Auto-8   2WD   \n229                       CHRYSLER 300    3.6    6      Auto-8   4WD   \n244                      DODGE Charger    3.6    6      Auto-8   2WD   \n246                      DODGE Charger    3.6    6      Auto-8   4WD   \n300  FORD Fusion Energi Plug-in Hybrid    2.0    4         CVT   2WD   \n326                      GMC Sierra 15    4.3    6      Auto-6   2WD   \n327                      GMC Sierra 15    4.3    6      Auto-6   4WD   \n328                      GMC Sierra 15    5.3    8      Auto-6   2WD   \n345                     GMC Yukon 1500    5.3    8      Auto-6   2WD   \n347                     GMC Yukon 1500    5.3    8      Auto-6   4WD   \n351                  GMC Yukon 1500 XL    5.3    8      Auto-6   2WD   \n354                  GMC Yukon XL 1500    5.3    8      Auto-6   4WD   \n442                      JEEP Cherokee    2.4    4      Auto-9   2WD   \n444                      JEEP Cherokee    2.4    4      Auto-9   4WD   \n462                       KARMA Revero    2.0    4      Auto-1   2WD   \n571        MERCEDES-BENZ CLA250 4Matic    2.0    4   AutoMan-7   4WD   \n578        MERCEDES-BENZ GLA250 4Matic    2.0    4   AutoMan-7   4WD   \n584        MERCEDES-BENZ GLE350 4Matic    3.5    6      Auto-7   4WD   \n616     MINI Cooper SE Countryman All4    1.5    3  SemiAuto-6   4WD   \n742                 TOYOTA Sequoia FFV    5.7    8  SemiAuto-6   4WD   \n747                  TOYOTA Tundra FFV    5.7    8  SemiAuto-6   4WD   \n777                          VOLVO S90    2.0    4  SemiAuto-8   4WD   \n789                        VOLVO XC 60    2.0    4  SemiAuto-8   4WD   \n793                        VOLVO XC 90    2.0    4  SemiAuto-8   4WD   \n\n                     fuel     veh_class  air_pollution_score city_mpg hwy_mpg  \\\n52   Gasoline/Electricity     small car                    3    28/66   34/78   \n78   Gasoline/Electricity     small car                    7    27/70   31/75   \n79   Gasoline/Electricity     small car                    7    27/66   31/68   \n92   Gasoline/Electricity     large car                    3    25/62   29/68   \n189           Ethanol/Gas     large car                    5    14/18   20/28   \n195           Ethanol/Gas        pickup                    5   18-Dec   16/24   \n196           Ethanol/Gas        pickup                    5   17-Dec   15/22   \n197           Ethanol/Gas        pickup                    3   16-Dec   17/23   \n212           Ethanol/Gas  standard SUV                    3   16-Dec   17/23   \n214           Ethanol/Gas  standard SUV                    3   16-Nov   15/22   \n216           Ethanol/Gas  standard SUV                    3   16-Dec   17/23   \n218           Ethanol/Gas  standard SUV                    3   16-Nov   16/22   \n225  Gasoline/Electricity     small car                    3   43/113   42/99   \n226  Gasoline/Electricity     small car                    7   43/113   42/99   \n227           Ethanol/Gas     large car                    3    14/19   22/30   \n229           Ethanol/Gas     large car                    3    13/18   20/27   \n244           Ethanol/Gas     large car                    3    14/19   22/30   \n246           Ethanol/Gas     large car                    3    13/18   20/27   \n300  Gasoline/Electricity   midsize car                    7   43/102   41/91   \n326           Ethanol/Gas        pickup                    5   18-Dec   16/24   \n327           Ethanol/Gas        pickup                    5   17-Dec   15/22   \n328           Ethanol/Gas        pickup                    3   16-Dec   17/23   \n345           Ethanol/Gas  standard SUV                    3   16-Dec   17/23   \n347           Ethanol/Gas  standard SUV                    3   16-Nov   16/22   \n351           Ethanol/Gas  standard SUV                    3   16-Dec   17/23   \n354           Ethanol/Gas  standard SUV                    3   16-Nov   15/22   \n442           Ethanol/Gas     small SUV                    3    15/21   22/30   \n444           Ethanol/Gas     small SUV                    3    14/21   21/28   \n462  Gasoline/Electricity     small car                    1    20/59   21/61   \n571           Ethanol/Gas     small car                    5    17/24   24/32   \n578           Ethanol/Gas     small SUV                    5    17/23   23/31   \n584           Ethanol/Gas  standard SUV                    3    13/18   17/22   \n616  Gasoline/Electricity   midsize car                    3    28/63   27/66   \n742           Ethanol/Gas  standard SUV                    5   13-Sep   13/17   \n747           Ethanol/Gas        pickup                    5   13-Sep  17-Dec   \n777  Gasoline/Electricity   midsize car                    7    26/70   33/72   \n789  Gasoline/Electricity     small SUV                    7    26/60   28/58   \n793  Gasoline/Electricity  standard SUV                    7    26/63   30/61   \n\n    cmb_mpg  greenhouse_gas_score smartway  \n52    30/71                    10      Yes  \n78    29/72                    10    Elite  \n79    28/67                    10    Elite  \n92    27/64                     9      Yes  \n189   16/22                     4       No  \n195   14/20                     4       No  \n196   13/19                     3       No  \n197   14/19                     3       No  \n212   14/19                     3       No  \n214  18-Dec                     3       No  \n216   14/19                     3       No  \n218   13/18                     3       No  \n225  42/106                    10      Yes  \n226  42/106                    10    Elite  \n227   17/23                     5       No  \n229   16/21                     4       No  \n244   17/23                     5       No  \n246   16/21                     4       No  \n300   42/97                    10    Elite  \n326   14/20                     4       No  \n327   13/19                     3       No  \n328   14/19                     3       No  \n345   14/19                     3       No  \n347   13/18                     3       No  \n351   14/19                     3       No  \n354  18-Dec                     3       No  \n442   18/25                     5       No  \n444   17/23                     5       No  \n462   20/60                    10       No  \n571   20/27                     6       No  \n578   19/26                     5       No  \n584   14/19                     3       No  \n616   27/65                     9      Yes  \n742  14-Oct                     1       No  \n747  15-Oct                     2       No  \n777   29/71                    10    Elite  \n789   26/59                    10    Elite  \n793   27/62                    10    Elite  ",
      "text/html": "<div>\n<style scoped>\n    .dataframe tbody tr th:only-of-type {\n        vertical-align: middle;\n    }\n\n    .dataframe tbody tr th {\n        vertical-align: top;\n    }\n\n    .dataframe thead th {\n        text-align: right;\n    }\n</style>\n<table border=\"1\" class=\"dataframe\">\n  <thead>\n    <tr style=\"text-align: right;\">\n      <th></th>\n      <th>model</th>\n      <th>displ</th>\n      <th>cyl</th>\n      <th>trans</th>\n      <th>drive</th>\n      <th>fuel</th>\n      <th>veh_class</th>\n      <th>air_pollution_score</th>\n      <th>city_mpg</th>\n      <th>hwy_mpg</th>\n      <th>cmb_mpg</th>\n      <th>greenhouse_gas_score</th>\n      <th>smartway</th>\n    </tr>\n  </thead>\n  <tbody>\n    <tr>\n      <th>52</th>\n      <td>BMW 330e</td>\n      <td>2.0</td>\n      <td>4</td>\n      <td>SemiAuto-8</td>\n      <td>2WD</td>\n      <td>Gasoline/Electricity</td>\n      <td>small car</td>\n      <td>3</td>\n      <td>28/66</td>\n      <td>34/78</td>\n      <td>30/71</td>\n      <td>10</td>\n      <td>Yes</td>\n    </tr>\n    <tr>\n      <th>78</th>\n      <td>BMW 530e</td>\n      <td>2.0</td>\n      <td>4</td>\n      <td>SemiAuto-8</td>\n      <td>2WD</td>\n      <td>Gasoline/Electricity</td>\n      <td>small car</td>\n      <td>7</td>\n      <td>27/70</td>\n      <td>31/75</td>\n      <td>29/72</td>\n      <td>10</td>\n      <td>Elite</td>\n    </tr>\n    <tr>\n      <th>79</th>\n      <td>BMW 530e</td>\n      <td>2.0</td>\n      <td>4</td>\n      <td>SemiAuto-8</td>\n      <td>4WD</td>\n      <td>Gasoline/Electricity</td>\n      <td>small car</td>\n      <td>7</td>\n      <td>27/66</td>\n      <td>31/68</td>\n      <td>28/67</td>\n      <td>10</td>\n      <td>Elite</td>\n    </tr>\n    <tr>\n      <th>92</th>\n      <td>BMW 740e</td>\n      <td>2.0</td>\n      <td>4</td>\n      <td>SemiAuto-8</td>\n      <td>4WD</td>\n      <td>Gasoline/Electricity</td>\n      <td>large car</td>\n      <td>3</td>\n      <td>25/62</td>\n      <td>29/68</td>\n      <td>27/64</td>\n      <td>9</td>\n      <td>Yes</td>\n    </tr>\n    <tr>\n      <th>189</th>\n      <td>CHEVROLET Impala</td>\n      <td>3.6</td>\n      <td>6</td>\n      <td>SemiAuto-6</td>\n      <td>2WD</td>\n      <td>Ethanol/Gas</td>\n      <td>large car</td>\n      <td>5</td>\n      <td>14/18</td>\n      <td>20/28</td>\n      <td>16/22</td>\n      <td>4</td>\n      <td>No</td>\n    </tr>\n    <tr>\n      <th>195</th>\n      <td>CHEVROLET Silverado 15</td>\n      <td>4.3</td>\n      <td>6</td>\n      <td>Auto-6</td>\n      <td>2WD</td>\n      <td>Ethanol/Gas</td>\n      <td>pickup</td>\n      <td>5</td>\n      <td>18-Dec</td>\n      <td>16/24</td>\n      <td>14/20</td>\n      <td>4</td>\n      <td>No</td>\n    </tr>\n    <tr>\n      <th>196</th>\n      <td>CHEVROLET Silverado 15</td>\n      <td>4.3</td>\n      <td>6</td>\n      <td>Auto-6</td>\n      <td>4WD</td>\n      <td>Ethanol/Gas</td>\n      <td>pickup</td>\n      <td>5</td>\n      <td>17-Dec</td>\n      <td>15/22</td>\n      <td>13/19</td>\n      <td>3</td>\n      <td>No</td>\n    </tr>\n    <tr>\n      <th>197</th>\n      <td>CHEVROLET Silverado 15</td>\n      <td>5.3</td>\n      <td>8</td>\n      <td>Auto-6</td>\n      <td>2WD</td>\n      <td>Ethanol/Gas</td>\n      <td>pickup</td>\n      <td>3</td>\n      <td>16-Dec</td>\n      <td>17/23</td>\n      <td>14/19</td>\n      <td>3</td>\n      <td>No</td>\n    </tr>\n    <tr>\n      <th>212</th>\n      <td>CHEVROLET Suburban 1500</td>\n      <td>5.3</td>\n      <td>8</td>\n      <td>Auto-6</td>\n      <td>2WD</td>\n      <td>Ethanol/Gas</td>\n      <td>standard SUV</td>\n      <td>3</td>\n      <td>16-Dec</td>\n      <td>17/23</td>\n      <td>14/19</td>\n      <td>3</td>\n      <td>No</td>\n    </tr>\n    <tr>\n      <th>214</th>\n      <td>CHEVROLET Suburban 1500</td>\n      <td>5.3</td>\n      <td>8</td>\n      <td>Auto-6</td>\n      <td>4WD</td>\n      <td>Ethanol/Gas</td>\n      <td>standard SUV</td>\n      <td>3</td>\n      <td>16-Nov</td>\n      <td>15/22</td>\n      <td>18-Dec</td>\n      <td>3</td>\n      <td>No</td>\n    </tr>\n    <tr>\n      <th>216</th>\n      <td>CHEVROLET Tahoe 1500</td>\n      <td>5.3</td>\n      <td>8</td>\n      <td>Auto-6</td>\n      <td>2WD</td>\n      <td>Ethanol/Gas</td>\n      <td>standard SUV</td>\n      <td>3</td>\n      <td>16-Dec</td>\n      <td>17/23</td>\n      <td>14/19</td>\n      <td>3</td>\n      <td>No</td>\n    </tr>\n    <tr>\n      <th>218</th>\n      <td>CHEVROLET Tahoe 1500</td>\n      <td>5.3</td>\n      <td>8</td>\n      <td>Auto-6</td>\n      <td>4WD</td>\n      <td>Ethanol/Gas</td>\n      <td>standard SUV</td>\n      <td>3</td>\n      <td>16-Nov</td>\n      <td>16/22</td>\n      <td>13/18</td>\n      <td>3</td>\n      <td>No</td>\n    </tr>\n    <tr>\n      <th>225</th>\n      <td>CHEVROLET Volt</td>\n      <td>1.5</td>\n      <td>4</td>\n      <td>CVT</td>\n      <td>2WD</td>\n      <td>Gasoline/Electricity</td>\n      <td>small car</td>\n      <td>3</td>\n      <td>43/113</td>\n      <td>42/99</td>\n      <td>42/106</td>\n      <td>10</td>\n      <td>Yes</td>\n    </tr>\n    <tr>\n      <th>226</th>\n      <td>CHEVROLET Volt</td>\n      <td>1.5</td>\n      <td>4</td>\n      <td>CVT</td>\n      <td>2WD</td>\n      <td>Gasoline/Electricity</td>\n      <td>small car</td>\n      <td>7</td>\n      <td>43/113</td>\n      <td>42/99</td>\n      <td>42/106</td>\n      <td>10</td>\n      <td>Elite</td>\n    </tr>\n    <tr>\n      <th>227</th>\n      <td>CHRYSLER 300</td>\n      <td>3.6</td>\n      <td>6</td>\n      <td>Auto-8</td>\n      <td>2WD</td>\n      <td>Ethanol/Gas</td>\n      <td>large car</td>\n      <td>3</td>\n      <td>14/19</td>\n      <td>22/30</td>\n      <td>17/23</td>\n      <td>5</td>\n      <td>No</td>\n    </tr>\n    <tr>\n      <th>229</th>\n      <td>CHRYSLER 300</td>\n      <td>3.6</td>\n      <td>6</td>\n      <td>Auto-8</td>\n      <td>4WD</td>\n      <td>Ethanol/Gas</td>\n      <td>large car</td>\n      <td>3</td>\n      <td>13/18</td>\n      <td>20/27</td>\n      <td>16/21</td>\n      <td>4</td>\n      <td>No</td>\n    </tr>\n    <tr>\n      <th>244</th>\n      <td>DODGE Charger</td>\n      <td>3.6</td>\n      <td>6</td>\n      <td>Auto-8</td>\n      <td>2WD</td>\n      <td>Ethanol/Gas</td>\n      <td>large car</td>\n      <td>3</td>\n      <td>14/19</td>\n      <td>22/30</td>\n      <td>17/23</td>\n      <td>5</td>\n      <td>No</td>\n    </tr>\n    <tr>\n      <th>246</th>\n      <td>DODGE Charger</td>\n      <td>3.6</td>\n      <td>6</td>\n      <td>Auto-8</td>\n      <td>4WD</td>\n      <td>Ethanol/Gas</td>\n      <td>large car</td>\n      <td>3</td>\n      <td>13/18</td>\n      <td>20/27</td>\n      <td>16/21</td>\n      <td>4</td>\n      <td>No</td>\n    </tr>\n    <tr>\n      <th>300</th>\n      <td>FORD Fusion Energi Plug-in Hybrid</td>\n      <td>2.0</td>\n      <td>4</td>\n      <td>CVT</td>\n      <td>2WD</td>\n      <td>Gasoline/Electricity</td>\n      <td>midsize car</td>\n      <td>7</td>\n      <td>43/102</td>\n      <td>41/91</td>\n      <td>42/97</td>\n      <td>10</td>\n      <td>Elite</td>\n    </tr>\n    <tr>\n      <th>326</th>\n      <td>GMC Sierra 15</td>\n      <td>4.3</td>\n      <td>6</td>\n      <td>Auto-6</td>\n      <td>2WD</td>\n      <td>Ethanol/Gas</td>\n      <td>pickup</td>\n      <td>5</td>\n      <td>18-Dec</td>\n      <td>16/24</td>\n      <td>14/20</td>\n      <td>4</td>\n      <td>No</td>\n    </tr>\n    <tr>\n      <th>327</th>\n      <td>GMC Sierra 15</td>\n      <td>4.3</td>\n      <td>6</td>\n      <td>Auto-6</td>\n      <td>4WD</td>\n      <td>Ethanol/Gas</td>\n      <td>pickup</td>\n      <td>5</td>\n      <td>17-Dec</td>\n      <td>15/22</td>\n      <td>13/19</td>\n      <td>3</td>\n      <td>No</td>\n    </tr>\n    <tr>\n      <th>328</th>\n      <td>GMC Sierra 15</td>\n      <td>5.3</td>\n      <td>8</td>\n      <td>Auto-6</td>\n      <td>2WD</td>\n      <td>Ethanol/Gas</td>\n      <td>pickup</td>\n      <td>3</td>\n      <td>16-Dec</td>\n      <td>17/23</td>\n      <td>14/19</td>\n      <td>3</td>\n      <td>No</td>\n    </tr>\n    <tr>\n      <th>345</th>\n      <td>GMC Yukon 1500</td>\n      <td>5.3</td>\n      <td>8</td>\n      <td>Auto-6</td>\n      <td>2WD</td>\n      <td>Ethanol/Gas</td>\n      <td>standard SUV</td>\n      <td>3</td>\n      <td>16-Dec</td>\n      <td>17/23</td>\n      <td>14/19</td>\n      <td>3</td>\n      <td>No</td>\n    </tr>\n    <tr>\n      <th>347</th>\n      <td>GMC Yukon 1500</td>\n      <td>5.3</td>\n      <td>8</td>\n      <td>Auto-6</td>\n      <td>4WD</td>\n      <td>Ethanol/Gas</td>\n      <td>standard SUV</td>\n      <td>3</td>\n      <td>16-Nov</td>\n      <td>16/22</td>\n      <td>13/18</td>\n      <td>3</td>\n      <td>No</td>\n    </tr>\n    <tr>\n      <th>351</th>\n      <td>GMC Yukon 1500 XL</td>\n      <td>5.3</td>\n      <td>8</td>\n      <td>Auto-6</td>\n      <td>2WD</td>\n      <td>Ethanol/Gas</td>\n      <td>standard SUV</td>\n      <td>3</td>\n      <td>16-Dec</td>\n      <td>17/23</td>\n      <td>14/19</td>\n      <td>3</td>\n      <td>No</td>\n    </tr>\n    <tr>\n      <th>354</th>\n      <td>GMC Yukon XL 1500</td>\n      <td>5.3</td>\n      <td>8</td>\n      <td>Auto-6</td>\n      <td>4WD</td>\n      <td>Ethanol/Gas</td>\n      <td>standard SUV</td>\n      <td>3</td>\n      <td>16-Nov</td>\n      <td>15/22</td>\n      <td>18-Dec</td>\n      <td>3</td>\n      <td>No</td>\n    </tr>\n    <tr>\n      <th>442</th>\n      <td>JEEP Cherokee</td>\n      <td>2.4</td>\n      <td>4</td>\n      <td>Auto-9</td>\n      <td>2WD</td>\n      <td>Ethanol/Gas</td>\n      <td>small SUV</td>\n      <td>3</td>\n      <td>15/21</td>\n      <td>22/30</td>\n      <td>18/25</td>\n      <td>5</td>\n      <td>No</td>\n    </tr>\n    <tr>\n      <th>444</th>\n      <td>JEEP Cherokee</td>\n      <td>2.4</td>\n      <td>4</td>\n      <td>Auto-9</td>\n      <td>4WD</td>\n      <td>Ethanol/Gas</td>\n      <td>small SUV</td>\n      <td>3</td>\n      <td>14/21</td>\n      <td>21/28</td>\n      <td>17/23</td>\n      <td>5</td>\n      <td>No</td>\n    </tr>\n    <tr>\n      <th>462</th>\n      <td>KARMA Revero</td>\n      <td>2.0</td>\n      <td>4</td>\n      <td>Auto-1</td>\n      <td>2WD</td>\n      <td>Gasoline/Electricity</td>\n      <td>small car</td>\n      <td>1</td>\n      <td>20/59</td>\n      <td>21/61</td>\n      <td>20/60</td>\n      <td>10</td>\n      <td>No</td>\n    </tr>\n    <tr>\n      <th>571</th>\n      <td>MERCEDES-BENZ CLA250 4Matic</td>\n      <td>2.0</td>\n      <td>4</td>\n      <td>AutoMan-7</td>\n      <td>4WD</td>\n      <td>Ethanol/Gas</td>\n      <td>small car</td>\n      <td>5</td>\n      <td>17/24</td>\n      <td>24/32</td>\n      <td>20/27</td>\n      <td>6</td>\n      <td>No</td>\n    </tr>\n    <tr>\n      <th>578</th>\n      <td>MERCEDES-BENZ GLA250 4Matic</td>\n      <td>2.0</td>\n      <td>4</td>\n      <td>AutoMan-7</td>\n      <td>4WD</td>\n      <td>Ethanol/Gas</td>\n      <td>small SUV</td>\n      <td>5</td>\n      <td>17/23</td>\n      <td>23/31</td>\n      <td>19/26</td>\n      <td>5</td>\n      <td>No</td>\n    </tr>\n    <tr>\n      <th>584</th>\n      <td>MERCEDES-BENZ GLE350 4Matic</td>\n      <td>3.5</td>\n      <td>6</td>\n      <td>Auto-7</td>\n      <td>4WD</td>\n      <td>Ethanol/Gas</td>\n      <td>standard SUV</td>\n      <td>3</td>\n      <td>13/18</td>\n      <td>17/22</td>\n      <td>14/19</td>\n      <td>3</td>\n      <td>No</td>\n    </tr>\n    <tr>\n      <th>616</th>\n      <td>MINI Cooper SE Countryman All4</td>\n      <td>1.5</td>\n      <td>3</td>\n      <td>SemiAuto-6</td>\n      <td>4WD</td>\n      <td>Gasoline/Electricity</td>\n      <td>midsize car</td>\n      <td>3</td>\n      <td>28/63</td>\n      <td>27/66</td>\n      <td>27/65</td>\n      <td>9</td>\n      <td>Yes</td>\n    </tr>\n    <tr>\n      <th>742</th>\n      <td>TOYOTA Sequoia FFV</td>\n      <td>5.7</td>\n      <td>8</td>\n      <td>SemiAuto-6</td>\n      <td>4WD</td>\n      <td>Ethanol/Gas</td>\n      <td>standard SUV</td>\n      <td>5</td>\n      <td>13-Sep</td>\n      <td>13/17</td>\n      <td>14-Oct</td>\n      <td>1</td>\n      <td>No</td>\n    </tr>\n    <tr>\n      <th>747</th>\n      <td>TOYOTA Tundra FFV</td>\n      <td>5.7</td>\n      <td>8</td>\n      <td>SemiAuto-6</td>\n      <td>4WD</td>\n      <td>Ethanol/Gas</td>\n      <td>pickup</td>\n      <td>5</td>\n      <td>13-Sep</td>\n      <td>17-Dec</td>\n      <td>15-Oct</td>\n      <td>2</td>\n      <td>No</td>\n    </tr>\n    <tr>\n      <th>777</th>\n      <td>VOLVO S90</td>\n      <td>2.0</td>\n      <td>4</td>\n      <td>SemiAuto-8</td>\n      <td>4WD</td>\n      <td>Gasoline/Electricity</td>\n      <td>midsize car</td>\n      <td>7</td>\n      <td>26/70</td>\n      <td>33/72</td>\n      <td>29/71</td>\n      <td>10</td>\n      <td>Elite</td>\n    </tr>\n    <tr>\n      <th>789</th>\n      <td>VOLVO XC 60</td>\n      <td>2.0</td>\n      <td>4</td>\n      <td>SemiAuto-8</td>\n      <td>4WD</td>\n      <td>Gasoline/Electricity</td>\n      <td>small SUV</td>\n      <td>7</td>\n      <td>26/60</td>\n      <td>28/58</td>\n      <td>26/59</td>\n      <td>10</td>\n      <td>Elite</td>\n    </tr>\n    <tr>\n      <th>793</th>\n      <td>VOLVO XC 90</td>\n      <td>2.0</td>\n      <td>4</td>\n      <td>SemiAuto-8</td>\n      <td>4WD</td>\n      <td>Gasoline/Electricity</td>\n      <td>standard SUV</td>\n      <td>7</td>\n      <td>26/63</td>\n      <td>30/61</td>\n      <td>27/62</td>\n      <td>10</td>\n      <td>Elite</td>\n    </tr>\n  </tbody>\n</table>\n</div>"
     },
     "execution_count": 161,
     "metadata": {},
     "output_type": "execute_result"
    }
   ],
   "source": [
    "hb18 = df18[df18.fuel.str.contains('/')]\n",
    "hb18"
   ],
   "metadata": {
    "collapsed": false,
    "pycharm": {
     "name": "#%%\n"
    }
   }
  },
  {
   "cell_type": "code",
   "execution_count": 162,
   "outputs": [],
   "source": [
    "df1 = hb08.copy()\n",
    "df2 = hb08.copy()"
   ],
   "metadata": {
    "collapsed": false,
    "pycharm": {
     "name": "#%%\n"
    }
   }
  },
  {
   "cell_type": "code",
   "execution_count": 163,
   "outputs": [],
   "source": [
    "split_columns = ['fuel', 'air_pollution_score', 'city_mpg', 'hwy_mpg', 'cmb_mpg', 'greenhouse_gas_score']\n",
    "\n",
    "for c in split_columns:\n",
    "    df1[c] = df1[c].apply(lambda x: x.split('/')[0])\n",
    "    df2[c] = df2[c].apply(lambda x: x.split('/')[1])"
   ],
   "metadata": {
    "collapsed": false,
    "pycharm": {
     "name": "#%%\n"
    }
   }
  },
  {
   "cell_type": "code",
   "execution_count": 164,
   "outputs": [
    {
     "data": {
      "text/plain": "                  model  displ  cyl    trans drive     fuel  veh_class  \\\n582  MERCEDES-BENZ C300    3.0    6  Auto-L7   2WD  ethanol  small car   \n\n    air_pollution_score city_mpg hwy_mpg cmb_mpg greenhouse_gas_score smartway  \n582                   6       13      19      15                    7       no  ",
      "text/html": "<div>\n<style scoped>\n    .dataframe tbody tr th:only-of-type {\n        vertical-align: middle;\n    }\n\n    .dataframe tbody tr th {\n        vertical-align: top;\n    }\n\n    .dataframe thead th {\n        text-align: right;\n    }\n</style>\n<table border=\"1\" class=\"dataframe\">\n  <thead>\n    <tr style=\"text-align: right;\">\n      <th></th>\n      <th>model</th>\n      <th>displ</th>\n      <th>cyl</th>\n      <th>trans</th>\n      <th>drive</th>\n      <th>fuel</th>\n      <th>veh_class</th>\n      <th>air_pollution_score</th>\n      <th>city_mpg</th>\n      <th>hwy_mpg</th>\n      <th>cmb_mpg</th>\n      <th>greenhouse_gas_score</th>\n      <th>smartway</th>\n    </tr>\n  </thead>\n  <tbody>\n    <tr>\n      <th>582</th>\n      <td>MERCEDES-BENZ C300</td>\n      <td>3.0</td>\n      <td>6</td>\n      <td>Auto-L7</td>\n      <td>2WD</td>\n      <td>ethanol</td>\n      <td>small car</td>\n      <td>6</td>\n      <td>13</td>\n      <td>19</td>\n      <td>15</td>\n      <td>7</td>\n      <td>no</td>\n    </tr>\n  </tbody>\n</table>\n</div>"
     },
     "execution_count": 164,
     "metadata": {},
     "output_type": "execute_result"
    }
   ],
   "source": [
    "df1"
   ],
   "metadata": {
    "collapsed": false,
    "pycharm": {
     "name": "#%%\n"
    }
   }
  },
  {
   "cell_type": "code",
   "execution_count": 165,
   "outputs": [
    {
     "data": {
      "text/plain": "                  model  displ  cyl    trans drive fuel  veh_class  \\\n582  MERCEDES-BENZ C300    3.0    6  Auto-L7   2WD  gas  small car   \n\n    air_pollution_score city_mpg hwy_mpg cmb_mpg greenhouse_gas_score smartway  \n582                   4       18      25      21                    6       no  ",
      "text/html": "<div>\n<style scoped>\n    .dataframe tbody tr th:only-of-type {\n        vertical-align: middle;\n    }\n\n    .dataframe tbody tr th {\n        vertical-align: top;\n    }\n\n    .dataframe thead th {\n        text-align: right;\n    }\n</style>\n<table border=\"1\" class=\"dataframe\">\n  <thead>\n    <tr style=\"text-align: right;\">\n      <th></th>\n      <th>model</th>\n      <th>displ</th>\n      <th>cyl</th>\n      <th>trans</th>\n      <th>drive</th>\n      <th>fuel</th>\n      <th>veh_class</th>\n      <th>air_pollution_score</th>\n      <th>city_mpg</th>\n      <th>hwy_mpg</th>\n      <th>cmb_mpg</th>\n      <th>greenhouse_gas_score</th>\n      <th>smartway</th>\n    </tr>\n  </thead>\n  <tbody>\n    <tr>\n      <th>582</th>\n      <td>MERCEDES-BENZ C300</td>\n      <td>3.0</td>\n      <td>6</td>\n      <td>Auto-L7</td>\n      <td>2WD</td>\n      <td>gas</td>\n      <td>small car</td>\n      <td>4</td>\n      <td>18</td>\n      <td>25</td>\n      <td>21</td>\n      <td>6</td>\n      <td>no</td>\n    </tr>\n  </tbody>\n</table>\n</div>"
     },
     "execution_count": 165,
     "metadata": {},
     "output_type": "execute_result"
    }
   ],
   "source": [
    "df2"
   ],
   "metadata": {
    "collapsed": false,
    "pycharm": {
     "name": "#%%\n"
    }
   }
  },
  {
   "cell_type": "code",
   "execution_count": 166,
   "outputs": [
    {
     "data": {
      "text/plain": "                  model  displ  cyl    trans drive     fuel  veh_class  \\\n582  MERCEDES-BENZ C300    3.0    6  Auto-L7   2WD  ethanol  small car   \n582  MERCEDES-BENZ C300    3.0    6  Auto-L7   2WD      gas  small car   \n\n    air_pollution_score city_mpg hwy_mpg cmb_mpg greenhouse_gas_score smartway  \n582                   6       13      19      15                    7       no  \n582                   4       18      25      21                    6       no  ",
      "text/html": "<div>\n<style scoped>\n    .dataframe tbody tr th:only-of-type {\n        vertical-align: middle;\n    }\n\n    .dataframe tbody tr th {\n        vertical-align: top;\n    }\n\n    .dataframe thead th {\n        text-align: right;\n    }\n</style>\n<table border=\"1\" class=\"dataframe\">\n  <thead>\n    <tr style=\"text-align: right;\">\n      <th></th>\n      <th>model</th>\n      <th>displ</th>\n      <th>cyl</th>\n      <th>trans</th>\n      <th>drive</th>\n      <th>fuel</th>\n      <th>veh_class</th>\n      <th>air_pollution_score</th>\n      <th>city_mpg</th>\n      <th>hwy_mpg</th>\n      <th>cmb_mpg</th>\n      <th>greenhouse_gas_score</th>\n      <th>smartway</th>\n    </tr>\n  </thead>\n  <tbody>\n    <tr>\n      <th>582</th>\n      <td>MERCEDES-BENZ C300</td>\n      <td>3.0</td>\n      <td>6</td>\n      <td>Auto-L7</td>\n      <td>2WD</td>\n      <td>ethanol</td>\n      <td>small car</td>\n      <td>6</td>\n      <td>13</td>\n      <td>19</td>\n      <td>15</td>\n      <td>7</td>\n      <td>no</td>\n    </tr>\n    <tr>\n      <th>582</th>\n      <td>MERCEDES-BENZ C300</td>\n      <td>3.0</td>\n      <td>6</td>\n      <td>Auto-L7</td>\n      <td>2WD</td>\n      <td>gas</td>\n      <td>small car</td>\n      <td>4</td>\n      <td>18</td>\n      <td>25</td>\n      <td>21</td>\n      <td>6</td>\n      <td>no</td>\n    </tr>\n  </tbody>\n</table>\n</div>"
     },
     "execution_count": 166,
     "metadata": {},
     "output_type": "execute_result"
    }
   ],
   "source": [
    "new_rows = df1.append(df2)\n",
    "new_rows"
   ],
   "metadata": {
    "collapsed": false,
    "pycharm": {
     "name": "#%%\n"
    }
   }
  },
  {
   "cell_type": "code",
   "execution_count": 167,
   "outputs": [
    {
     "data": {
      "text/plain": "Empty DataFrame\nColumns: [model, displ, cyl, trans, drive, fuel, veh_class, air_pollution_score, city_mpg, hwy_mpg, cmb_mpg, greenhouse_gas_score, smartway]\nIndex: []",
      "text/html": "<div>\n<style scoped>\n    .dataframe tbody tr th:only-of-type {\n        vertical-align: middle;\n    }\n\n    .dataframe tbody tr th {\n        vertical-align: top;\n    }\n\n    .dataframe thead th {\n        text-align: right;\n    }\n</style>\n<table border=\"1\" class=\"dataframe\">\n  <thead>\n    <tr style=\"text-align: right;\">\n      <th></th>\n      <th>model</th>\n      <th>displ</th>\n      <th>cyl</th>\n      <th>trans</th>\n      <th>drive</th>\n      <th>fuel</th>\n      <th>veh_class</th>\n      <th>air_pollution_score</th>\n      <th>city_mpg</th>\n      <th>hwy_mpg</th>\n      <th>cmb_mpg</th>\n      <th>greenhouse_gas_score</th>\n      <th>smartway</th>\n    </tr>\n  </thead>\n  <tbody>\n  </tbody>\n</table>\n</div>"
     },
     "execution_count": 167,
     "metadata": {},
     "output_type": "execute_result"
    }
   ],
   "source": [
    "df08.drop(hb08.index, inplace=True)\n",
    "df08 = df08.append(new_rows, ignore_index=True)\n",
    "df08[df08.fuel.str.contains('/')]"
   ],
   "metadata": {
    "collapsed": false,
    "pycharm": {
     "name": "#%%\n"
    }
   }
  },
  {
   "cell_type": "code",
   "execution_count": 168,
   "outputs": [
    {
     "data": {
      "text/plain": "(987, 13)"
     },
     "execution_count": 168,
     "metadata": {},
     "output_type": "execute_result"
    }
   ],
   "source": [
    "df08.shape"
   ],
   "metadata": {
    "collapsed": false,
    "pycharm": {
     "name": "#%%\n"
    }
   }
  },
  {
   "cell_type": "code",
   "execution_count": 169,
   "outputs": [
    {
     "data": {
      "text/plain": "                                 model  displ  cyl       trans drive  \\\n52                            BMW 330e    2.0    4  SemiAuto-8   2WD   \n78                            BMW 530e    2.0    4  SemiAuto-8   2WD   \n79                            BMW 530e    2.0    4  SemiAuto-8   4WD   \n92                            BMW 740e    2.0    4  SemiAuto-8   4WD   \n189                   CHEVROLET Impala    3.6    6  SemiAuto-6   2WD   \n195             CHEVROLET Silverado 15    4.3    6      Auto-6   2WD   \n196             CHEVROLET Silverado 15    4.3    6      Auto-6   4WD   \n197             CHEVROLET Silverado 15    5.3    8      Auto-6   2WD   \n212            CHEVROLET Suburban 1500    5.3    8      Auto-6   2WD   \n214            CHEVROLET Suburban 1500    5.3    8      Auto-6   4WD   \n216               CHEVROLET Tahoe 1500    5.3    8      Auto-6   2WD   \n218               CHEVROLET Tahoe 1500    5.3    8      Auto-6   4WD   \n225                     CHEVROLET Volt    1.5    4         CVT   2WD   \n226                     CHEVROLET Volt    1.5    4         CVT   2WD   \n227                       CHRYSLER 300    3.6    6      Auto-8   2WD   \n229                       CHRYSLER 300    3.6    6      Auto-8   4WD   \n244                      DODGE Charger    3.6    6      Auto-8   2WD   \n246                      DODGE Charger    3.6    6      Auto-8   4WD   \n300  FORD Fusion Energi Plug-in Hybrid    2.0    4         CVT   2WD   \n326                      GMC Sierra 15    4.3    6      Auto-6   2WD   \n327                      GMC Sierra 15    4.3    6      Auto-6   4WD   \n328                      GMC Sierra 15    5.3    8      Auto-6   2WD   \n345                     GMC Yukon 1500    5.3    8      Auto-6   2WD   \n347                     GMC Yukon 1500    5.3    8      Auto-6   4WD   \n351                  GMC Yukon 1500 XL    5.3    8      Auto-6   2WD   \n354                  GMC Yukon XL 1500    5.3    8      Auto-6   4WD   \n442                      JEEP Cherokee    2.4    4      Auto-9   2WD   \n444                      JEEP Cherokee    2.4    4      Auto-9   4WD   \n462                       KARMA Revero    2.0    4      Auto-1   2WD   \n571        MERCEDES-BENZ CLA250 4Matic    2.0    4   AutoMan-7   4WD   \n578        MERCEDES-BENZ GLA250 4Matic    2.0    4   AutoMan-7   4WD   \n584        MERCEDES-BENZ GLE350 4Matic    3.5    6      Auto-7   4WD   \n616     MINI Cooper SE Countryman All4    1.5    3  SemiAuto-6   4WD   \n742                 TOYOTA Sequoia FFV    5.7    8  SemiAuto-6   4WD   \n747                  TOYOTA Tundra FFV    5.7    8  SemiAuto-6   4WD   \n777                          VOLVO S90    2.0    4  SemiAuto-8   4WD   \n789                        VOLVO XC 60    2.0    4  SemiAuto-8   4WD   \n793                        VOLVO XC 90    2.0    4  SemiAuto-8   4WD   \n\n                     fuel     veh_class  air_pollution_score city_mpg hwy_mpg  \\\n52   Gasoline/Electricity     small car                    3    28/66   34/78   \n78   Gasoline/Electricity     small car                    7    27/70   31/75   \n79   Gasoline/Electricity     small car                    7    27/66   31/68   \n92   Gasoline/Electricity     large car                    3    25/62   29/68   \n189           Ethanol/Gas     large car                    5    14/18   20/28   \n195           Ethanol/Gas        pickup                    5   18-Dec   16/24   \n196           Ethanol/Gas        pickup                    5   17-Dec   15/22   \n197           Ethanol/Gas        pickup                    3   16-Dec   17/23   \n212           Ethanol/Gas  standard SUV                    3   16-Dec   17/23   \n214           Ethanol/Gas  standard SUV                    3   16-Nov   15/22   \n216           Ethanol/Gas  standard SUV                    3   16-Dec   17/23   \n218           Ethanol/Gas  standard SUV                    3   16-Nov   16/22   \n225  Gasoline/Electricity     small car                    3   43/113   42/99   \n226  Gasoline/Electricity     small car                    7   43/113   42/99   \n227           Ethanol/Gas     large car                    3    14/19   22/30   \n229           Ethanol/Gas     large car                    3    13/18   20/27   \n244           Ethanol/Gas     large car                    3    14/19   22/30   \n246           Ethanol/Gas     large car                    3    13/18   20/27   \n300  Gasoline/Electricity   midsize car                    7   43/102   41/91   \n326           Ethanol/Gas        pickup                    5   18-Dec   16/24   \n327           Ethanol/Gas        pickup                    5   17-Dec   15/22   \n328           Ethanol/Gas        pickup                    3   16-Dec   17/23   \n345           Ethanol/Gas  standard SUV                    3   16-Dec   17/23   \n347           Ethanol/Gas  standard SUV                    3   16-Nov   16/22   \n351           Ethanol/Gas  standard SUV                    3   16-Dec   17/23   \n354           Ethanol/Gas  standard SUV                    3   16-Nov   15/22   \n442           Ethanol/Gas     small SUV                    3    15/21   22/30   \n444           Ethanol/Gas     small SUV                    3    14/21   21/28   \n462  Gasoline/Electricity     small car                    1    20/59   21/61   \n571           Ethanol/Gas     small car                    5    17/24   24/32   \n578           Ethanol/Gas     small SUV                    5    17/23   23/31   \n584           Ethanol/Gas  standard SUV                    3    13/18   17/22   \n616  Gasoline/Electricity   midsize car                    3    28/63   27/66   \n742           Ethanol/Gas  standard SUV                    5   13-Sep   13/17   \n747           Ethanol/Gas        pickup                    5   13-Sep  17-Dec   \n777  Gasoline/Electricity   midsize car                    7    26/70   33/72   \n789  Gasoline/Electricity     small SUV                    7    26/60   28/58   \n793  Gasoline/Electricity  standard SUV                    7    26/63   30/61   \n\n    cmb_mpg  greenhouse_gas_score smartway  \n52    30/71                    10      Yes  \n78    29/72                    10    Elite  \n79    28/67                    10    Elite  \n92    27/64                     9      Yes  \n189   16/22                     4       No  \n195   14/20                     4       No  \n196   13/19                     3       No  \n197   14/19                     3       No  \n212   14/19                     3       No  \n214  18-Dec                     3       No  \n216   14/19                     3       No  \n218   13/18                     3       No  \n225  42/106                    10      Yes  \n226  42/106                    10    Elite  \n227   17/23                     5       No  \n229   16/21                     4       No  \n244   17/23                     5       No  \n246   16/21                     4       No  \n300   42/97                    10    Elite  \n326   14/20                     4       No  \n327   13/19                     3       No  \n328   14/19                     3       No  \n345   14/19                     3       No  \n347   13/18                     3       No  \n351   14/19                     3       No  \n354  18-Dec                     3       No  \n442   18/25                     5       No  \n444   17/23                     5       No  \n462   20/60                    10       No  \n571   20/27                     6       No  \n578   19/26                     5       No  \n584   14/19                     3       No  \n616   27/65                     9      Yes  \n742  14-Oct                     1       No  \n747  15-Oct                     2       No  \n777   29/71                    10    Elite  \n789   26/59                    10    Elite  \n793   27/62                    10    Elite  ",
      "text/html": "<div>\n<style scoped>\n    .dataframe tbody tr th:only-of-type {\n        vertical-align: middle;\n    }\n\n    .dataframe tbody tr th {\n        vertical-align: top;\n    }\n\n    .dataframe thead th {\n        text-align: right;\n    }\n</style>\n<table border=\"1\" class=\"dataframe\">\n  <thead>\n    <tr style=\"text-align: right;\">\n      <th></th>\n      <th>model</th>\n      <th>displ</th>\n      <th>cyl</th>\n      <th>trans</th>\n      <th>drive</th>\n      <th>fuel</th>\n      <th>veh_class</th>\n      <th>air_pollution_score</th>\n      <th>city_mpg</th>\n      <th>hwy_mpg</th>\n      <th>cmb_mpg</th>\n      <th>greenhouse_gas_score</th>\n      <th>smartway</th>\n    </tr>\n  </thead>\n  <tbody>\n    <tr>\n      <th>52</th>\n      <td>BMW 330e</td>\n      <td>2.0</td>\n      <td>4</td>\n      <td>SemiAuto-8</td>\n      <td>2WD</td>\n      <td>Gasoline/Electricity</td>\n      <td>small car</td>\n      <td>3</td>\n      <td>28/66</td>\n      <td>34/78</td>\n      <td>30/71</td>\n      <td>10</td>\n      <td>Yes</td>\n    </tr>\n    <tr>\n      <th>78</th>\n      <td>BMW 530e</td>\n      <td>2.0</td>\n      <td>4</td>\n      <td>SemiAuto-8</td>\n      <td>2WD</td>\n      <td>Gasoline/Electricity</td>\n      <td>small car</td>\n      <td>7</td>\n      <td>27/70</td>\n      <td>31/75</td>\n      <td>29/72</td>\n      <td>10</td>\n      <td>Elite</td>\n    </tr>\n    <tr>\n      <th>79</th>\n      <td>BMW 530e</td>\n      <td>2.0</td>\n      <td>4</td>\n      <td>SemiAuto-8</td>\n      <td>4WD</td>\n      <td>Gasoline/Electricity</td>\n      <td>small car</td>\n      <td>7</td>\n      <td>27/66</td>\n      <td>31/68</td>\n      <td>28/67</td>\n      <td>10</td>\n      <td>Elite</td>\n    </tr>\n    <tr>\n      <th>92</th>\n      <td>BMW 740e</td>\n      <td>2.0</td>\n      <td>4</td>\n      <td>SemiAuto-8</td>\n      <td>4WD</td>\n      <td>Gasoline/Electricity</td>\n      <td>large car</td>\n      <td>3</td>\n      <td>25/62</td>\n      <td>29/68</td>\n      <td>27/64</td>\n      <td>9</td>\n      <td>Yes</td>\n    </tr>\n    <tr>\n      <th>189</th>\n      <td>CHEVROLET Impala</td>\n      <td>3.6</td>\n      <td>6</td>\n      <td>SemiAuto-6</td>\n      <td>2WD</td>\n      <td>Ethanol/Gas</td>\n      <td>large car</td>\n      <td>5</td>\n      <td>14/18</td>\n      <td>20/28</td>\n      <td>16/22</td>\n      <td>4</td>\n      <td>No</td>\n    </tr>\n    <tr>\n      <th>195</th>\n      <td>CHEVROLET Silverado 15</td>\n      <td>4.3</td>\n      <td>6</td>\n      <td>Auto-6</td>\n      <td>2WD</td>\n      <td>Ethanol/Gas</td>\n      <td>pickup</td>\n      <td>5</td>\n      <td>18-Dec</td>\n      <td>16/24</td>\n      <td>14/20</td>\n      <td>4</td>\n      <td>No</td>\n    </tr>\n    <tr>\n      <th>196</th>\n      <td>CHEVROLET Silverado 15</td>\n      <td>4.3</td>\n      <td>6</td>\n      <td>Auto-6</td>\n      <td>4WD</td>\n      <td>Ethanol/Gas</td>\n      <td>pickup</td>\n      <td>5</td>\n      <td>17-Dec</td>\n      <td>15/22</td>\n      <td>13/19</td>\n      <td>3</td>\n      <td>No</td>\n    </tr>\n    <tr>\n      <th>197</th>\n      <td>CHEVROLET Silverado 15</td>\n      <td>5.3</td>\n      <td>8</td>\n      <td>Auto-6</td>\n      <td>2WD</td>\n      <td>Ethanol/Gas</td>\n      <td>pickup</td>\n      <td>3</td>\n      <td>16-Dec</td>\n      <td>17/23</td>\n      <td>14/19</td>\n      <td>3</td>\n      <td>No</td>\n    </tr>\n    <tr>\n      <th>212</th>\n      <td>CHEVROLET Suburban 1500</td>\n      <td>5.3</td>\n      <td>8</td>\n      <td>Auto-6</td>\n      <td>2WD</td>\n      <td>Ethanol/Gas</td>\n      <td>standard SUV</td>\n      <td>3</td>\n      <td>16-Dec</td>\n      <td>17/23</td>\n      <td>14/19</td>\n      <td>3</td>\n      <td>No</td>\n    </tr>\n    <tr>\n      <th>214</th>\n      <td>CHEVROLET Suburban 1500</td>\n      <td>5.3</td>\n      <td>8</td>\n      <td>Auto-6</td>\n      <td>4WD</td>\n      <td>Ethanol/Gas</td>\n      <td>standard SUV</td>\n      <td>3</td>\n      <td>16-Nov</td>\n      <td>15/22</td>\n      <td>18-Dec</td>\n      <td>3</td>\n      <td>No</td>\n    </tr>\n    <tr>\n      <th>216</th>\n      <td>CHEVROLET Tahoe 1500</td>\n      <td>5.3</td>\n      <td>8</td>\n      <td>Auto-6</td>\n      <td>2WD</td>\n      <td>Ethanol/Gas</td>\n      <td>standard SUV</td>\n      <td>3</td>\n      <td>16-Dec</td>\n      <td>17/23</td>\n      <td>14/19</td>\n      <td>3</td>\n      <td>No</td>\n    </tr>\n    <tr>\n      <th>218</th>\n      <td>CHEVROLET Tahoe 1500</td>\n      <td>5.3</td>\n      <td>8</td>\n      <td>Auto-6</td>\n      <td>4WD</td>\n      <td>Ethanol/Gas</td>\n      <td>standard SUV</td>\n      <td>3</td>\n      <td>16-Nov</td>\n      <td>16/22</td>\n      <td>13/18</td>\n      <td>3</td>\n      <td>No</td>\n    </tr>\n    <tr>\n      <th>225</th>\n      <td>CHEVROLET Volt</td>\n      <td>1.5</td>\n      <td>4</td>\n      <td>CVT</td>\n      <td>2WD</td>\n      <td>Gasoline/Electricity</td>\n      <td>small car</td>\n      <td>3</td>\n      <td>43/113</td>\n      <td>42/99</td>\n      <td>42/106</td>\n      <td>10</td>\n      <td>Yes</td>\n    </tr>\n    <tr>\n      <th>226</th>\n      <td>CHEVROLET Volt</td>\n      <td>1.5</td>\n      <td>4</td>\n      <td>CVT</td>\n      <td>2WD</td>\n      <td>Gasoline/Electricity</td>\n      <td>small car</td>\n      <td>7</td>\n      <td>43/113</td>\n      <td>42/99</td>\n      <td>42/106</td>\n      <td>10</td>\n      <td>Elite</td>\n    </tr>\n    <tr>\n      <th>227</th>\n      <td>CHRYSLER 300</td>\n      <td>3.6</td>\n      <td>6</td>\n      <td>Auto-8</td>\n      <td>2WD</td>\n      <td>Ethanol/Gas</td>\n      <td>large car</td>\n      <td>3</td>\n      <td>14/19</td>\n      <td>22/30</td>\n      <td>17/23</td>\n      <td>5</td>\n      <td>No</td>\n    </tr>\n    <tr>\n      <th>229</th>\n      <td>CHRYSLER 300</td>\n      <td>3.6</td>\n      <td>6</td>\n      <td>Auto-8</td>\n      <td>4WD</td>\n      <td>Ethanol/Gas</td>\n      <td>large car</td>\n      <td>3</td>\n      <td>13/18</td>\n      <td>20/27</td>\n      <td>16/21</td>\n      <td>4</td>\n      <td>No</td>\n    </tr>\n    <tr>\n      <th>244</th>\n      <td>DODGE Charger</td>\n      <td>3.6</td>\n      <td>6</td>\n      <td>Auto-8</td>\n      <td>2WD</td>\n      <td>Ethanol/Gas</td>\n      <td>large car</td>\n      <td>3</td>\n      <td>14/19</td>\n      <td>22/30</td>\n      <td>17/23</td>\n      <td>5</td>\n      <td>No</td>\n    </tr>\n    <tr>\n      <th>246</th>\n      <td>DODGE Charger</td>\n      <td>3.6</td>\n      <td>6</td>\n      <td>Auto-8</td>\n      <td>4WD</td>\n      <td>Ethanol/Gas</td>\n      <td>large car</td>\n      <td>3</td>\n      <td>13/18</td>\n      <td>20/27</td>\n      <td>16/21</td>\n      <td>4</td>\n      <td>No</td>\n    </tr>\n    <tr>\n      <th>300</th>\n      <td>FORD Fusion Energi Plug-in Hybrid</td>\n      <td>2.0</td>\n      <td>4</td>\n      <td>CVT</td>\n      <td>2WD</td>\n      <td>Gasoline/Electricity</td>\n      <td>midsize car</td>\n      <td>7</td>\n      <td>43/102</td>\n      <td>41/91</td>\n      <td>42/97</td>\n      <td>10</td>\n      <td>Elite</td>\n    </tr>\n    <tr>\n      <th>326</th>\n      <td>GMC Sierra 15</td>\n      <td>4.3</td>\n      <td>6</td>\n      <td>Auto-6</td>\n      <td>2WD</td>\n      <td>Ethanol/Gas</td>\n      <td>pickup</td>\n      <td>5</td>\n      <td>18-Dec</td>\n      <td>16/24</td>\n      <td>14/20</td>\n      <td>4</td>\n      <td>No</td>\n    </tr>\n    <tr>\n      <th>327</th>\n      <td>GMC Sierra 15</td>\n      <td>4.3</td>\n      <td>6</td>\n      <td>Auto-6</td>\n      <td>4WD</td>\n      <td>Ethanol/Gas</td>\n      <td>pickup</td>\n      <td>5</td>\n      <td>17-Dec</td>\n      <td>15/22</td>\n      <td>13/19</td>\n      <td>3</td>\n      <td>No</td>\n    </tr>\n    <tr>\n      <th>328</th>\n      <td>GMC Sierra 15</td>\n      <td>5.3</td>\n      <td>8</td>\n      <td>Auto-6</td>\n      <td>2WD</td>\n      <td>Ethanol/Gas</td>\n      <td>pickup</td>\n      <td>3</td>\n      <td>16-Dec</td>\n      <td>17/23</td>\n      <td>14/19</td>\n      <td>3</td>\n      <td>No</td>\n    </tr>\n    <tr>\n      <th>345</th>\n      <td>GMC Yukon 1500</td>\n      <td>5.3</td>\n      <td>8</td>\n      <td>Auto-6</td>\n      <td>2WD</td>\n      <td>Ethanol/Gas</td>\n      <td>standard SUV</td>\n      <td>3</td>\n      <td>16-Dec</td>\n      <td>17/23</td>\n      <td>14/19</td>\n      <td>3</td>\n      <td>No</td>\n    </tr>\n    <tr>\n      <th>347</th>\n      <td>GMC Yukon 1500</td>\n      <td>5.3</td>\n      <td>8</td>\n      <td>Auto-6</td>\n      <td>4WD</td>\n      <td>Ethanol/Gas</td>\n      <td>standard SUV</td>\n      <td>3</td>\n      <td>16-Nov</td>\n      <td>16/22</td>\n      <td>13/18</td>\n      <td>3</td>\n      <td>No</td>\n    </tr>\n    <tr>\n      <th>351</th>\n      <td>GMC Yukon 1500 XL</td>\n      <td>5.3</td>\n      <td>8</td>\n      <td>Auto-6</td>\n      <td>2WD</td>\n      <td>Ethanol/Gas</td>\n      <td>standard SUV</td>\n      <td>3</td>\n      <td>16-Dec</td>\n      <td>17/23</td>\n      <td>14/19</td>\n      <td>3</td>\n      <td>No</td>\n    </tr>\n    <tr>\n      <th>354</th>\n      <td>GMC Yukon XL 1500</td>\n      <td>5.3</td>\n      <td>8</td>\n      <td>Auto-6</td>\n      <td>4WD</td>\n      <td>Ethanol/Gas</td>\n      <td>standard SUV</td>\n      <td>3</td>\n      <td>16-Nov</td>\n      <td>15/22</td>\n      <td>18-Dec</td>\n      <td>3</td>\n      <td>No</td>\n    </tr>\n    <tr>\n      <th>442</th>\n      <td>JEEP Cherokee</td>\n      <td>2.4</td>\n      <td>4</td>\n      <td>Auto-9</td>\n      <td>2WD</td>\n      <td>Ethanol/Gas</td>\n      <td>small SUV</td>\n      <td>3</td>\n      <td>15/21</td>\n      <td>22/30</td>\n      <td>18/25</td>\n      <td>5</td>\n      <td>No</td>\n    </tr>\n    <tr>\n      <th>444</th>\n      <td>JEEP Cherokee</td>\n      <td>2.4</td>\n      <td>4</td>\n      <td>Auto-9</td>\n      <td>4WD</td>\n      <td>Ethanol/Gas</td>\n      <td>small SUV</td>\n      <td>3</td>\n      <td>14/21</td>\n      <td>21/28</td>\n      <td>17/23</td>\n      <td>5</td>\n      <td>No</td>\n    </tr>\n    <tr>\n      <th>462</th>\n      <td>KARMA Revero</td>\n      <td>2.0</td>\n      <td>4</td>\n      <td>Auto-1</td>\n      <td>2WD</td>\n      <td>Gasoline/Electricity</td>\n      <td>small car</td>\n      <td>1</td>\n      <td>20/59</td>\n      <td>21/61</td>\n      <td>20/60</td>\n      <td>10</td>\n      <td>No</td>\n    </tr>\n    <tr>\n      <th>571</th>\n      <td>MERCEDES-BENZ CLA250 4Matic</td>\n      <td>2.0</td>\n      <td>4</td>\n      <td>AutoMan-7</td>\n      <td>4WD</td>\n      <td>Ethanol/Gas</td>\n      <td>small car</td>\n      <td>5</td>\n      <td>17/24</td>\n      <td>24/32</td>\n      <td>20/27</td>\n      <td>6</td>\n      <td>No</td>\n    </tr>\n    <tr>\n      <th>578</th>\n      <td>MERCEDES-BENZ GLA250 4Matic</td>\n      <td>2.0</td>\n      <td>4</td>\n      <td>AutoMan-7</td>\n      <td>4WD</td>\n      <td>Ethanol/Gas</td>\n      <td>small SUV</td>\n      <td>5</td>\n      <td>17/23</td>\n      <td>23/31</td>\n      <td>19/26</td>\n      <td>5</td>\n      <td>No</td>\n    </tr>\n    <tr>\n      <th>584</th>\n      <td>MERCEDES-BENZ GLE350 4Matic</td>\n      <td>3.5</td>\n      <td>6</td>\n      <td>Auto-7</td>\n      <td>4WD</td>\n      <td>Ethanol/Gas</td>\n      <td>standard SUV</td>\n      <td>3</td>\n      <td>13/18</td>\n      <td>17/22</td>\n      <td>14/19</td>\n      <td>3</td>\n      <td>No</td>\n    </tr>\n    <tr>\n      <th>616</th>\n      <td>MINI Cooper SE Countryman All4</td>\n      <td>1.5</td>\n      <td>3</td>\n      <td>SemiAuto-6</td>\n      <td>4WD</td>\n      <td>Gasoline/Electricity</td>\n      <td>midsize car</td>\n      <td>3</td>\n      <td>28/63</td>\n      <td>27/66</td>\n      <td>27/65</td>\n      <td>9</td>\n      <td>Yes</td>\n    </tr>\n    <tr>\n      <th>742</th>\n      <td>TOYOTA Sequoia FFV</td>\n      <td>5.7</td>\n      <td>8</td>\n      <td>SemiAuto-6</td>\n      <td>4WD</td>\n      <td>Ethanol/Gas</td>\n      <td>standard SUV</td>\n      <td>5</td>\n      <td>13-Sep</td>\n      <td>13/17</td>\n      <td>14-Oct</td>\n      <td>1</td>\n      <td>No</td>\n    </tr>\n    <tr>\n      <th>747</th>\n      <td>TOYOTA Tundra FFV</td>\n      <td>5.7</td>\n      <td>8</td>\n      <td>SemiAuto-6</td>\n      <td>4WD</td>\n      <td>Ethanol/Gas</td>\n      <td>pickup</td>\n      <td>5</td>\n      <td>13-Sep</td>\n      <td>17-Dec</td>\n      <td>15-Oct</td>\n      <td>2</td>\n      <td>No</td>\n    </tr>\n    <tr>\n      <th>777</th>\n      <td>VOLVO S90</td>\n      <td>2.0</td>\n      <td>4</td>\n      <td>SemiAuto-8</td>\n      <td>4WD</td>\n      <td>Gasoline/Electricity</td>\n      <td>midsize car</td>\n      <td>7</td>\n      <td>26/70</td>\n      <td>33/72</td>\n      <td>29/71</td>\n      <td>10</td>\n      <td>Elite</td>\n    </tr>\n    <tr>\n      <th>789</th>\n      <td>VOLVO XC 60</td>\n      <td>2.0</td>\n      <td>4</td>\n      <td>SemiAuto-8</td>\n      <td>4WD</td>\n      <td>Gasoline/Electricity</td>\n      <td>small SUV</td>\n      <td>7</td>\n      <td>26/60</td>\n      <td>28/58</td>\n      <td>26/59</td>\n      <td>10</td>\n      <td>Elite</td>\n    </tr>\n    <tr>\n      <th>793</th>\n      <td>VOLVO XC 90</td>\n      <td>2.0</td>\n      <td>4</td>\n      <td>SemiAuto-8</td>\n      <td>4WD</td>\n      <td>Gasoline/Electricity</td>\n      <td>standard SUV</td>\n      <td>7</td>\n      <td>26/63</td>\n      <td>30/61</td>\n      <td>27/62</td>\n      <td>10</td>\n      <td>Elite</td>\n    </tr>\n  </tbody>\n</table>\n</div>"
     },
     "execution_count": 169,
     "metadata": {},
     "output_type": "execute_result"
    }
   ],
   "source": [
    "df1 = hb18.copy()\n",
    "df2 = hb18.copy()\n",
    "df2"
   ],
   "metadata": {
    "collapsed": false,
    "pycharm": {
     "name": "#%%\n"
    }
   }
  },
  {
   "cell_type": "code",
   "execution_count": 170,
   "outputs": [],
   "source": [
    "def split_cols():\n",
    "    split_columns = ['fuel', 'city_mpg', 'hwy_mpg', 'cmb_mpg']\n",
    "    cur_col = None\n",
    "    pr_col = None\n",
    "    d = '-' # dash\n",
    "    s = '/' # slash\n",
    "    def df_apply0(x):\n",
    "        #print(0, x)\n",
    "        if d in x: return x.split(d)[0]\n",
    "        return x.split('/')[0]\n",
    "\n",
    "    def df_apply1(x):\n",
    "        #print(1, x)\n",
    "        if d in x: return x.split(d)[1]\n",
    "        return x.split('/')[1]\n",
    "\n",
    "    for c in split_columns:\n",
    "        cur_col = c\n",
    "        #df1[c] = df1[c].apply(lambda x: x.split('/')[0])\n",
    "        df1[c] = df1[c].apply(df_apply0)\n",
    "        pr_col = df1[c]\n",
    "        #df2[c] = df2[c].apply(lambda x: x.split('/')[1])\n",
    "        df2[c] = df2[c].apply(df_apply1)\n",
    "\n",
    "split_cols()"
   ],
   "metadata": {
    "collapsed": false,
    "pycharm": {
     "name": "#%%\n"
    }
   }
  },
  {
   "cell_type": "code",
   "execution_count": 171,
   "outputs": [],
   "source": [
    "new_rows = df1.append(df2)\n",
    "df18.drop(hb18.index, inplace=True)\n",
    "df18 = df18.append(new_rows, ignore_index=True)"
   ],
   "metadata": {
    "collapsed": false,
    "pycharm": {
     "name": "#%%\n"
    }
   }
  },
  {
   "cell_type": "code",
   "execution_count": 172,
   "outputs": [
    {
     "data": {
      "text/plain": "Empty DataFrame\nColumns: [model, displ, cyl, trans, drive, fuel, veh_class, air_pollution_score, city_mpg, hwy_mpg, cmb_mpg, greenhouse_gas_score, smartway]\nIndex: []",
      "text/html": "<div>\n<style scoped>\n    .dataframe tbody tr th:only-of-type {\n        vertical-align: middle;\n    }\n\n    .dataframe tbody tr th {\n        vertical-align: top;\n    }\n\n    .dataframe thead th {\n        text-align: right;\n    }\n</style>\n<table border=\"1\" class=\"dataframe\">\n  <thead>\n    <tr style=\"text-align: right;\">\n      <th></th>\n      <th>model</th>\n      <th>displ</th>\n      <th>cyl</th>\n      <th>trans</th>\n      <th>drive</th>\n      <th>fuel</th>\n      <th>veh_class</th>\n      <th>air_pollution_score</th>\n      <th>city_mpg</th>\n      <th>hwy_mpg</th>\n      <th>cmb_mpg</th>\n      <th>greenhouse_gas_score</th>\n      <th>smartway</th>\n    </tr>\n  </thead>\n  <tbody>\n  </tbody>\n</table>\n</div>"
     },
     "execution_count": 172,
     "metadata": {},
     "output_type": "execute_result"
    }
   ],
   "source": [
    "df18[df18['fuel'].str.contains('/')]"
   ],
   "metadata": {
    "collapsed": false,
    "pycharm": {
     "name": "#%%\n"
    }
   }
  },
  {
   "cell_type": "code",
   "execution_count": 173,
   "outputs": [
    {
     "data": {
      "text/plain": "(832, 13)"
     },
     "execution_count": 173,
     "metadata": {},
     "output_type": "execute_result"
    }
   ],
   "source": [
    "df18.shape"
   ],
   "metadata": {
    "collapsed": false,
    "pycharm": {
     "name": "#%%\n"
    }
   }
  },
  {
   "cell_type": "code",
   "execution_count": 174,
   "outputs": [],
   "source": [
    "df08.air_pollution_score = df08.air_pollution_score.astype(float)\n",
    "df18.air_pollution_score = df18.air_pollution_score.astype(float)"
   ],
   "metadata": {
    "collapsed": false,
    "pycharm": {
     "name": "#%%\n"
    }
   }
  },
  {
   "cell_type": "code",
   "execution_count": 176,
   "outputs": [],
   "source": [
    "df08.to_csv('data/data_08_v4.csv', index=False)\n",
    "df18.to_csv('data/data_18_v4.csv', index=False)"
   ],
   "metadata": {
    "collapsed": false,
    "pycharm": {
     "name": "#%%\n"
    }
   }
  },
  {
   "cell_type": "code",
   "execution_count": null,
   "outputs": [],
   "source": [],
   "metadata": {
    "collapsed": false,
    "pycharm": {
     "name": "#%%\n"
    }
   }
  }
 ],
 "metadata": {
  "kernelspec": {
   "display_name": "Python 3",
   "language": "python",
   "name": "python3"
  },
  "language_info": {
   "codemirror_mode": {
    "name": "ipython",
    "version": 2
   },
   "file_extension": ".py",
   "mimetype": "text/x-python",
   "name": "python",
   "nbconvert_exporter": "python",
   "pygments_lexer": "ipython2",
   "version": "2.7.6"
  }
 },
 "nbformat": 4,
 "nbformat_minor": 0
}